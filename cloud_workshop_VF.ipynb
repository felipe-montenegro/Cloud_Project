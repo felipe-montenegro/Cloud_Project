{
  "nbformat": 4,
  "nbformat_minor": 0,
  "metadata": {
    "colab": {
      "provenance": []
    },
    "kernelspec": {
      "name": "python3",
      "display_name": "Python 3"
    },
    "language_info": {
      "name": "python"
    }
  },
  "cells": [
    {
      "cell_type": "markdown",
      "source": [
        "# **Procesamiento en la Nube - Taller Final**\n",
        "## **Ingrantes: Felipe Montenegro & Daniel Martínez**\n",
        "## **Profesor: Daniel Amariles**"
      ],
      "metadata": {
        "id": "MKjRfPjbAuMM"
      }
    },
    {
      "cell_type": "markdown",
      "source": [
        "# **I. Preparación del Entorno**"
      ],
      "metadata": {
        "id": "NDCJ_1xrPqdI"
      }
    },
    {
      "cell_type": "code",
      "source": [
        "! pip install spark\n",
        "! pip install pydeequ\n",
        "! pip install sagemaker-pyspark"
      ],
      "metadata": {
        "colab": {
          "base_uri": "https://localhost:8080/"
        },
        "id": "m6fh3jYHWiG0",
        "outputId": "3fb2872b-3009-4cd0-debf-5f437b99d6c2"
      },
      "execution_count": null,
      "outputs": [
        {
          "output_type": "stream",
          "name": "stdout",
          "text": [
            "Requirement already satisfied: spark in /usr/local/lib/python3.10/dist-packages (0.2.1)\n",
            "Requirement already satisfied: pydeequ in /usr/local/lib/python3.10/dist-packages (1.0.1)\n",
            "Requirement already satisfied: numpy>=1.14.1 in /usr/local/lib/python3.10/dist-packages (from pydeequ) (1.26.4)\n",
            "Requirement already satisfied: pandas>=0.23.0 in /usr/local/lib/python3.10/dist-packages (from pydeequ) (2.2.2)\n",
            "Requirement already satisfied: python-dateutil>=2.8.2 in /usr/local/lib/python3.10/dist-packages (from pandas>=0.23.0->pydeequ) (2.8.2)\n",
            "Requirement already satisfied: pytz>=2020.1 in /usr/local/lib/python3.10/dist-packages (from pandas>=0.23.0->pydeequ) (2024.2)\n",
            "Requirement already satisfied: tzdata>=2022.7 in /usr/local/lib/python3.10/dist-packages (from pandas>=0.23.0->pydeequ) (2024.2)\n",
            "Requirement already satisfied: six>=1.5 in /usr/local/lib/python3.10/dist-packages (from python-dateutil>=2.8.2->pandas>=0.23.0->pydeequ) (1.16.0)\n",
            "Requirement already satisfied: sagemaker-pyspark in /usr/local/lib/python3.10/dist-packages (1.4.5)\n",
            "Collecting pyspark==3.3.0 (from sagemaker-pyspark)\n",
            "  Using cached pyspark-3.3.0-py2.py3-none-any.whl\n",
            "Requirement already satisfied: numpy in /usr/local/lib/python3.10/dist-packages (from sagemaker-pyspark) (1.26.4)\n",
            "Collecting py4j==0.10.9.5 (from pyspark==3.3.0->sagemaker-pyspark)\n",
            "  Using cached py4j-0.10.9.5-py2.py3-none-any.whl.metadata (1.5 kB)\n",
            "Using cached py4j-0.10.9.5-py2.py3-none-any.whl (199 kB)\n",
            "Installing collected packages: py4j, pyspark\n",
            "  Attempting uninstall: py4j\n",
            "    Found existing installation: py4j 0.10.9.3\n",
            "    Uninstalling py4j-0.10.9.3:\n",
            "      Successfully uninstalled py4j-0.10.9.3\n",
            "  Attempting uninstall: pyspark\n",
            "    Found existing installation: pyspark 3.2.1\n",
            "    Uninstalling pyspark-3.2.1:\n",
            "      Successfully uninstalled pyspark-3.2.1\n",
            "Successfully installed py4j-0.10.9.5 pyspark-3.3.0\n"
          ]
        }
      ]
    },
    {
      "cell_type": "code",
      "source": [
        "'''!pip uninstall pyspark -y\n",
        "!pip uninstall pydeequ -y'''"
      ],
      "metadata": {
        "id": "BPijzutHsT9i"
      },
      "execution_count": null,
      "outputs": []
    },
    {
      "cell_type": "code",
      "source": [
        "'''!pip install pyspark==3.2.1\n",
        "!pip install pydeequ==1.0.1\n",
        "! pip install sagemaker-pyspark'''"
      ],
      "metadata": {
        "id": "ObuZEqMbsUTK"
      },
      "execution_count": null,
      "outputs": []
    },
    {
      "cell_type": "code",
      "source": [
        "'''! pip install pydeequ'''"
      ],
      "metadata": {
        "id": "MAO340EWsdmh"
      },
      "execution_count": null,
      "outputs": []
    },
    {
      "cell_type": "code",
      "source": [
        "import os\n",
        "os.environ[\"SPARK_VERSION\"] = \"3.2.1\"\n",
        "\n",
        "import pydeequ\n",
        "import sagemaker_pyspark\n",
        "from pyspark.sql import SparkSession\n",
        "\n",
        "classpath = \":\".join(sagemaker_pyspark.classpath_jars())\n",
        "\n",
        "spark = (SparkSession\n",
        "    .builder\n",
        "    .config(\"spark.driver.extraClassPath\", classpath)\n",
        "    .config(\"spark.jars.packages\", pydeequ.deequ_maven_coord)\n",
        "    .config(\"spark.jars.excludes\", pydeequ.f2j_maven_coord)\n",
        "    .getOrCreate())\n"
      ],
      "metadata": {
        "id": "6qFM7SxOMi_m",
        "colab": {
          "base_uri": "https://localhost:8080/"
        },
        "outputId": "474f6f95-dd53-4fe9-e327-4f610acb6c91"
      },
      "execution_count": null,
      "outputs": [
        {
          "output_type": "stream",
          "name": "stderr",
          "text": [
            "ERROR:logger:Deequ is still not supported in spark version: 3.2.1\n"
          ]
        }
      ]
    },
    {
      "cell_type": "markdown",
      "source": [
        "# **II. Carga del Dataset**"
      ],
      "metadata": {
        "id": "-Q12hHOaPw2b"
      }
    },
    {
      "cell_type": "markdown",
      "source": [
        "**Justificación del conjunto seleccionado:**\n",
        "\n",
        "\n",
        "Para el desarrollo de este ejercicio se ha seleccionado el dataset Global Weather Repository que proviene de las bases de datos publicadas en Kaggle. Este conjunto de información es relevante debido a la cantidad de registros que contiene (34.719) y la diversidad de columnas y tipo de datos que lo caracterizan.\n",
        "\n",
        "Entre ellas aparecen variables tipo texto o string como los países o los nombres de las ubicaciones, también variables numéricas como las temperaturas, humedades, presión, entre otras y además, hay información de variables de tiempo, debido a que al ser un dataset que hace seguimiento al clima, se evidencia la fecha en el que se realizaron las mediciones.\n",
        "\n",
        "Esta estructura permitirá hacer varios ejercicios para el análisis de datos que se propondrá a lo largo del taller.\n"
      ],
      "metadata": {
        "id": "9i5JaXfTRevR"
      }
    },
    {
      "cell_type": "code",
      "source": [
        "from google.colab import drive\n",
        "drive.mount('/content/drive')\n",
        "\n",
        "file_path = '/content/drive/MyDrive/Maestria_Ciencia_Datos/Semestre_2/Cloud/Taller_Final_Amariles/GlobalWeatherRepository.csv'\n",
        "\n",
        "df = spark.read.option(\"header\", \"true\").csv(file_path)\n",
        "df.printSchema()\n",
        "df.show(5)\n"
      ],
      "metadata": {
        "colab": {
          "base_uri": "https://localhost:8080/"
        },
        "id": "yb94KNXIMzQw",
        "outputId": "df0cc6c8-c6dd-485a-8b1e-8d2a1b35d043"
      },
      "execution_count": null,
      "outputs": [
        {
          "output_type": "stream",
          "name": "stdout",
          "text": [
            "Drive already mounted at /content/drive; to attempt to forcibly remount, call drive.mount(\"/content/drive\", force_remount=True).\n",
            "root\n",
            " |-- country: string (nullable = true)\n",
            " |-- location_name: string (nullable = true)\n",
            " |-- latitude: string (nullable = true)\n",
            " |-- longitude: string (nullable = true)\n",
            " |-- timezone: string (nullable = true)\n",
            " |-- last_updated_epoch: string (nullable = true)\n",
            " |-- last_updated: string (nullable = true)\n",
            " |-- temperature_celsius: string (nullable = true)\n",
            " |-- temperature_fahrenheit: string (nullable = true)\n",
            " |-- condition_text: string (nullable = true)\n",
            " |-- wind_mph: string (nullable = true)\n",
            " |-- wind_kph: string (nullable = true)\n",
            " |-- wind_degree: string (nullable = true)\n",
            " |-- wind_direction: string (nullable = true)\n",
            " |-- pressure_mb: string (nullable = true)\n",
            " |-- pressure_in: string (nullable = true)\n",
            " |-- precip_mm: string (nullable = true)\n",
            " |-- precip_in: string (nullable = true)\n",
            " |-- humidity: string (nullable = true)\n",
            " |-- cloud: string (nullable = true)\n",
            " |-- feels_like_celsius: string (nullable = true)\n",
            " |-- feels_like_fahrenheit: string (nullable = true)\n",
            " |-- visibility_km: string (nullable = true)\n",
            " |-- visibility_miles: string (nullable = true)\n",
            " |-- uv_index: string (nullable = true)\n",
            " |-- gust_mph: string (nullable = true)\n",
            " |-- gust_kph: string (nullable = true)\n",
            " |-- air_quality_Carbon_Monoxide: string (nullable = true)\n",
            " |-- air_quality_Ozone: string (nullable = true)\n",
            " |-- air_quality_Nitrogen_dioxide: string (nullable = true)\n",
            " |-- air_quality_Sulphur_dioxide: string (nullable = true)\n",
            " |-- air_quality_PM2.5: string (nullable = true)\n",
            " |-- air_quality_PM10: string (nullable = true)\n",
            " |-- air_quality_us-epa-index: string (nullable = true)\n",
            " |-- air_quality_gb-defra-index: string (nullable = true)\n",
            " |-- sunrise: string (nullable = true)\n",
            " |-- sunset: string (nullable = true)\n",
            " |-- moonrise: string (nullable = true)\n",
            " |-- moonset: string (nullable = true)\n",
            " |-- moon_phase: string (nullable = true)\n",
            " |-- moon_illumination: string (nullable = true)\n",
            "\n",
            "+-----------+----------------+--------+---------+--------------+------------------+----------------+-------------------+----------------------+--------------+--------+--------+-----------+--------------+-----------+-----------+---------+---------+--------+-----+------------------+---------------------+-------------+----------------+--------+--------+--------+---------------------------+-----------------+----------------------------+---------------------------+-----------------+----------------+------------------------+--------------------------+--------+--------+--------+--------+--------------+-----------------+\n",
            "|    country|   location_name|latitude|longitude|      timezone|last_updated_epoch|    last_updated|temperature_celsius|temperature_fahrenheit|condition_text|wind_mph|wind_kph|wind_degree|wind_direction|pressure_mb|pressure_in|precip_mm|precip_in|humidity|cloud|feels_like_celsius|feels_like_fahrenheit|visibility_km|visibility_miles|uv_index|gust_mph|gust_kph|air_quality_Carbon_Monoxide|air_quality_Ozone|air_quality_Nitrogen_dioxide|air_quality_Sulphur_dioxide|air_quality_PM2.5|air_quality_PM10|air_quality_us-epa-index|air_quality_gb-defra-index| sunrise|  sunset|moonrise| moonset|    moon_phase|moon_illumination|\n",
            "+-----------+----------------+--------+---------+--------------+------------------+----------------+-------------------+----------------------+--------------+--------+--------+-----------+--------------+-----------+-----------+---------+---------+--------+-----+------------------+---------------------+-------------+----------------+--------+--------+--------+---------------------------+-----------------+----------------------------+---------------------------+-----------------+----------------+------------------------+--------------------------+--------+--------+--------+--------+--------------+-----------------+\n",
            "|Afghanistan|           Kabul|   34.52|    69.18|    Asia/Kabul|        1715849100|2024-05-16 13:15|               26.6|                  79.8| Partly Cloudy|     8.3|    13.3|        338|           NNW|     1012.0|      29.89|      0.0|      0.0|      24|   30|              25.3|                 77.5|         10.0|             6.0|     7.0|     9.5|    15.3|                      277.0|            103.0|                         1.1|                        0.2|              8.4|            26.6|                       1|                         1|04:50 AM|06:50 PM|12:12 PM|01:11 AM|Waxing Gibbous|               55|\n",
            "|    Albania|          Tirana|   41.33|    19.82| Europe/Tirane|        1715849100|2024-05-16 10:45|               19.0|                  66.2| Partly cloudy|     6.9|    11.2|        320|            NW|     1012.0|      29.88|      0.1|      0.0|      94|   75|              19.0|                 66.2|         10.0|             6.0|     5.0|    11.4|    18.4|                      193.6|             97.3|                         0.9|                        0.1|              1.1|             2.0|                       1|                         1|05:21 AM|07:54 PM|12:58 PM|02:14 AM|Waxing Gibbous|               55|\n",
            "|    Algeria|         Algiers|   36.76|     3.05|Africa/Algiers|        1715849100|2024-05-16 09:45|               23.0|                  73.4|         Sunny|     9.4|    15.1|        280|             W|     1011.0|      29.85|      0.0|      0.0|      29|    0|              24.6|                 76.4|         10.0|             6.0|     5.0|    13.9|    22.3|                      540.7|             12.2|                        65.1|                       13.4|             10.4|            18.4|                       1|                         1|05:40 AM|07:50 PM|01:15 PM|02:14 AM|Waxing Gibbous|               55|\n",
            "|    Andorra|Andorra La Vella|    42.5|     1.52|Europe/Andorra|        1715849100|2024-05-16 10:45|                6.3|                  43.3| Light drizzle|     7.4|    11.9|        215|            SW|     1007.0|      29.75|      0.3|     0.01|      61|  100|               3.8|                 38.9|          2.0|             1.0|     2.0|     8.5|    13.7|                      170.2|             64.4|                         1.6|                        0.2|              0.7|             0.9|                       1|                         1|06:31 AM|09:11 PM|02:12 PM|03:31 AM|Waxing Gibbous|               55|\n",
            "|     Angola|          Luanda|   -8.84|    13.23| Africa/Luanda|        1715849100|2024-05-16 09:45|               26.0|                  78.8| Partly cloudy|     8.1|    13.0|        150|           SSE|     1011.0|      29.85|      0.0|      0.0|      89|   50|              28.7|                 83.6|         10.0|             6.0|     8.0|    12.5|    20.2|                     2964.0|             19.0|                        72.7|                       31.5|            183.4|           262.3|                       5|                        10|06:12 AM|05:55 PM|01:17 PM|12:38 AM|Waxing Gibbous|               55|\n",
            "+-----------+----------------+--------+---------+--------------+------------------+----------------+-------------------+----------------------+--------------+--------+--------+-----------+--------------+-----------+-----------+---------+---------+--------+-----+------------------+---------------------+-------------+----------------+--------+--------+--------+---------------------------+-----------------+----------------------------+---------------------------+-----------------+----------------+------------------------+--------------------------+--------+--------+--------+--------+--------------+-----------------+\n",
            "only showing top 5 rows\n",
            "\n"
          ]
        }
      ]
    },
    {
      "cell_type": "markdown",
      "source": [
        "## **II. Aplicación de Deequ profiling**"
      ],
      "metadata": {
        "id": "ZJW9GSlSS4X9"
      }
    },
    {
      "cell_type": "markdown",
      "source": [
        "En esta sección del ejercicio usaremos la herramienta Deequ Profiling para analizar y comprender la estructura del conjunto de datos escogido. Básicamente se hará un perfilado general de su contenido, valores únicos, valores nulos, etc."
      ],
      "metadata": {
        "id": "SsAFT0k5cF0i"
      }
    },
    {
      "cell_type": "code",
      "source": [
        "!pip uninstall pyspark -y\n",
        "!pip uninstall pydeequ -y"
      ],
      "metadata": {
        "colab": {
          "base_uri": "https://localhost:8080/"
        },
        "id": "zWELb3eXt6ai",
        "outputId": "a4f74c6e-1085-42b7-f72b-10c64aee4350"
      },
      "execution_count": null,
      "outputs": [
        {
          "output_type": "stream",
          "name": "stdout",
          "text": [
            "Found existing installation: pyspark 3.3.0\n",
            "Uninstalling pyspark-3.3.0:\n",
            "  Successfully uninstalled pyspark-3.3.0\n",
            "Found existing installation: pydeequ 1.0.1\n",
            "Uninstalling pydeequ-1.0.1:\n",
            "  Successfully uninstalled pydeequ-1.0.1\n"
          ]
        }
      ]
    },
    {
      "cell_type": "code",
      "source": [
        "!pip install pyspark==3.2.1\n",
        "!pip install pydeequ==1.0.1"
      ],
      "metadata": {
        "colab": {
          "base_uri": "https://localhost:8080/",
          "height": 533
        },
        "id": "at-LnKxSt8JB",
        "outputId": "7effb6e8-e775-4ac9-99f5-24afa53e8f5a"
      },
      "execution_count": null,
      "outputs": [
        {
          "output_type": "stream",
          "name": "stdout",
          "text": [
            "Collecting pyspark==3.2.1\n",
            "  Using cached pyspark-3.2.1-py2.py3-none-any.whl\n",
            "Collecting py4j==0.10.9.3 (from pyspark==3.2.1)\n",
            "  Using cached py4j-0.10.9.3-py2.py3-none-any.whl.metadata (1.4 kB)\n",
            "Using cached py4j-0.10.9.3-py2.py3-none-any.whl (198 kB)\n",
            "Installing collected packages: py4j, pyspark\n",
            "  Attempting uninstall: py4j\n",
            "    Found existing installation: py4j 0.10.9.5\n",
            "    Uninstalling py4j-0.10.9.5:\n",
            "      Successfully uninstalled py4j-0.10.9.5\n",
            "\u001b[31mERROR: pip's dependency resolver does not currently take into account all the packages that are installed. This behaviour is the source of the following dependency conflicts.\n",
            "sagemaker-pyspark 1.4.5 requires pyspark==3.3.0, but you have pyspark 3.2.1 which is incompatible.\u001b[0m\u001b[31m\n",
            "\u001b[0mSuccessfully installed py4j-0.10.9.3 pyspark-3.2.1\n"
          ]
        },
        {
          "output_type": "display_data",
          "data": {
            "application/vnd.colab-display-data+json": {
              "pip_warning": {
                "packages": [
                  "py4j",
                  "pyspark"
                ]
              },
              "id": "c38821f39f0a445e8f1debe4618f40f2"
            }
          },
          "metadata": {}
        },
        {
          "output_type": "stream",
          "name": "stdout",
          "text": [
            "Collecting pydeequ==1.0.1\n",
            "  Using cached pydeequ-1.0.1-py3-none-any.whl.metadata (8.5 kB)\n",
            "Requirement already satisfied: numpy>=1.14.1 in /usr/local/lib/python3.10/dist-packages (from pydeequ==1.0.1) (1.26.4)\n",
            "Requirement already satisfied: pandas>=0.23.0 in /usr/local/lib/python3.10/dist-packages (from pydeequ==1.0.1) (2.2.2)\n",
            "Requirement already satisfied: python-dateutil>=2.8.2 in /usr/local/lib/python3.10/dist-packages (from pandas>=0.23.0->pydeequ==1.0.1) (2.8.2)\n",
            "Requirement already satisfied: pytz>=2020.1 in /usr/local/lib/python3.10/dist-packages (from pandas>=0.23.0->pydeequ==1.0.1) (2024.2)\n",
            "Requirement already satisfied: tzdata>=2022.7 in /usr/local/lib/python3.10/dist-packages (from pandas>=0.23.0->pydeequ==1.0.1) (2024.2)\n",
            "Requirement already satisfied: six>=1.5 in /usr/local/lib/python3.10/dist-packages (from python-dateutil>=2.8.2->pandas>=0.23.0->pydeequ==1.0.1) (1.16.0)\n",
            "Using cached pydeequ-1.0.1-py3-none-any.whl (36 kB)\n",
            "\u001b[31mERROR: Operation cancelled by user\u001b[0m\u001b[31m\n",
            "\u001b[0m"
          ]
        }
      ]
    },
    {
      "cell_type": "code",
      "source": [
        "! pip install pydeequ"
      ],
      "metadata": {
        "colab": {
          "base_uri": "https://localhost:8080/"
        },
        "id": "3CzwmaBwuGeR",
        "outputId": "ae578306-2c7d-4842-c5db-43e59e6eed04"
      },
      "execution_count": null,
      "outputs": [
        {
          "output_type": "stream",
          "name": "stdout",
          "text": [
            "Collecting pydeequ\n",
            "  Using cached pydeequ-1.4.0-py3-none-any.whl.metadata (9.4 kB)\n",
            "Requirement already satisfied: numpy>=1.14.1 in /usr/local/lib/python3.10/dist-packages (from pydeequ) (1.26.4)\n",
            "Requirement already satisfied: pandas>=0.23.0 in /usr/local/lib/python3.10/dist-packages (from pydeequ) (2.2.2)\n",
            "Requirement already satisfied: python-dateutil>=2.8.2 in /usr/local/lib/python3.10/dist-packages (from pandas>=0.23.0->pydeequ) (2.8.2)\n",
            "Requirement already satisfied: pytz>=2020.1 in /usr/local/lib/python3.10/dist-packages (from pandas>=0.23.0->pydeequ) (2024.2)\n",
            "Requirement already satisfied: tzdata>=2022.7 in /usr/local/lib/python3.10/dist-packages (from pandas>=0.23.0->pydeequ) (2024.2)\n",
            "Requirement already satisfied: six>=1.5 in /usr/local/lib/python3.10/dist-packages (from python-dateutil>=2.8.2->pandas>=0.23.0->pydeequ) (1.16.0)\n",
            "Using cached pydeequ-1.4.0-py3-none-any.whl (37 kB)\n",
            "Installing collected packages: pydeequ\n",
            "Successfully installed pydeequ-1.4.0\n"
          ]
        }
      ]
    },
    {
      "cell_type": "code",
      "source": [
        "import os\n",
        "os.environ[\"SPARK_VERSION\"] = \"3.2.1\"\n",
        "\n",
        "import pydeequ\n",
        "import sagemaker_pyspark\n",
        "from pyspark.sql import SparkSession\n",
        "\n",
        "classpath = \":\".join(sagemaker_pyspark.classpath_jars())\n",
        "\n",
        "spark = (SparkSession\n",
        "    .builder\n",
        "    .config(\"spark.driver.extraClassPath\", classpath)\n",
        "    .config(\"spark.jars.packages\", pydeequ.deequ_maven_coord)\n",
        "    .config(\"spark.jars.excludes\", pydeequ.f2j_maven_coord)\n",
        "    .getOrCreate())"
      ],
      "metadata": {
        "id": "p9shXlbEuNGD"
      },
      "execution_count": null,
      "outputs": []
    },
    {
      "cell_type": "code",
      "source": [
        "from google.colab import drive\n",
        "drive.mount('/content/drive')\n",
        "\n",
        "file_path = '/content/drive/MyDrive/Maestria_Ciencia_Datos/Semestre_2/Cloud/Taller_Final_Amariles/GlobalWeatherRepository.csv'\n",
        "\n",
        "df = spark.read.option(\"header\", \"true\").csv(file_path)\n",
        "df.printSchema()\n",
        "df.show(5)"
      ],
      "metadata": {
        "colab": {
          "base_uri": "https://localhost:8080/"
        },
        "id": "UJI6sqf2uThR",
        "outputId": "51b66da6-75a1-4dfa-beb3-ceb502131f8d"
      },
      "execution_count": null,
      "outputs": [
        {
          "output_type": "stream",
          "name": "stdout",
          "text": [
            "Drive already mounted at /content/drive; to attempt to forcibly remount, call drive.mount(\"/content/drive\", force_remount=True).\n",
            "root\n",
            " |-- country: string (nullable = true)\n",
            " |-- location_name: string (nullable = true)\n",
            " |-- latitude: string (nullable = true)\n",
            " |-- longitude: string (nullable = true)\n",
            " |-- timezone: string (nullable = true)\n",
            " |-- last_updated_epoch: string (nullable = true)\n",
            " |-- last_updated: string (nullable = true)\n",
            " |-- temperature_celsius: string (nullable = true)\n",
            " |-- temperature_fahrenheit: string (nullable = true)\n",
            " |-- condition_text: string (nullable = true)\n",
            " |-- wind_mph: string (nullable = true)\n",
            " |-- wind_kph: string (nullable = true)\n",
            " |-- wind_degree: string (nullable = true)\n",
            " |-- wind_direction: string (nullable = true)\n",
            " |-- pressure_mb: string (nullable = true)\n",
            " |-- pressure_in: string (nullable = true)\n",
            " |-- precip_mm: string (nullable = true)\n",
            " |-- precip_in: string (nullable = true)\n",
            " |-- humidity: string (nullable = true)\n",
            " |-- cloud: string (nullable = true)\n",
            " |-- feels_like_celsius: string (nullable = true)\n",
            " |-- feels_like_fahrenheit: string (nullable = true)\n",
            " |-- visibility_km: string (nullable = true)\n",
            " |-- visibility_miles: string (nullable = true)\n",
            " |-- uv_index: string (nullable = true)\n",
            " |-- gust_mph: string (nullable = true)\n",
            " |-- gust_kph: string (nullable = true)\n",
            " |-- air_quality_Carbon_Monoxide: string (nullable = true)\n",
            " |-- air_quality_Ozone: string (nullable = true)\n",
            " |-- air_quality_Nitrogen_dioxide: string (nullable = true)\n",
            " |-- air_quality_Sulphur_dioxide: string (nullable = true)\n",
            " |-- air_quality_PM2.5: string (nullable = true)\n",
            " |-- air_quality_PM10: string (nullable = true)\n",
            " |-- air_quality_us-epa-index: string (nullable = true)\n",
            " |-- air_quality_gb-defra-index: string (nullable = true)\n",
            " |-- sunrise: string (nullable = true)\n",
            " |-- sunset: string (nullable = true)\n",
            " |-- moonrise: string (nullable = true)\n",
            " |-- moonset: string (nullable = true)\n",
            " |-- moon_phase: string (nullable = true)\n",
            " |-- moon_illumination: string (nullable = true)\n",
            "\n",
            "+-----------+----------------+--------+---------+--------------+------------------+----------------+-------------------+----------------------+--------------+--------+--------+-----------+--------------+-----------+-----------+---------+---------+--------+-----+------------------+---------------------+-------------+----------------+--------+--------+--------+---------------------------+-----------------+----------------------------+---------------------------+-----------------+----------------+------------------------+--------------------------+--------+--------+--------+--------+--------------+-----------------+\n",
            "|    country|   location_name|latitude|longitude|      timezone|last_updated_epoch|    last_updated|temperature_celsius|temperature_fahrenheit|condition_text|wind_mph|wind_kph|wind_degree|wind_direction|pressure_mb|pressure_in|precip_mm|precip_in|humidity|cloud|feels_like_celsius|feels_like_fahrenheit|visibility_km|visibility_miles|uv_index|gust_mph|gust_kph|air_quality_Carbon_Monoxide|air_quality_Ozone|air_quality_Nitrogen_dioxide|air_quality_Sulphur_dioxide|air_quality_PM2.5|air_quality_PM10|air_quality_us-epa-index|air_quality_gb-defra-index| sunrise|  sunset|moonrise| moonset|    moon_phase|moon_illumination|\n",
            "+-----------+----------------+--------+---------+--------------+------------------+----------------+-------------------+----------------------+--------------+--------+--------+-----------+--------------+-----------+-----------+---------+---------+--------+-----+------------------+---------------------+-------------+----------------+--------+--------+--------+---------------------------+-----------------+----------------------------+---------------------------+-----------------+----------------+------------------------+--------------------------+--------+--------+--------+--------+--------------+-----------------+\n",
            "|Afghanistan|           Kabul|   34.52|    69.18|    Asia/Kabul|        1715849100|2024-05-16 13:15|               26.6|                  79.8| Partly Cloudy|     8.3|    13.3|        338|           NNW|     1012.0|      29.89|      0.0|      0.0|      24|   30|              25.3|                 77.5|         10.0|             6.0|     7.0|     9.5|    15.3|                      277.0|            103.0|                         1.1|                        0.2|              8.4|            26.6|                       1|                         1|04:50 AM|06:50 PM|12:12 PM|01:11 AM|Waxing Gibbous|               55|\n",
            "|    Albania|          Tirana|   41.33|    19.82| Europe/Tirane|        1715849100|2024-05-16 10:45|               19.0|                  66.2| Partly cloudy|     6.9|    11.2|        320|            NW|     1012.0|      29.88|      0.1|      0.0|      94|   75|              19.0|                 66.2|         10.0|             6.0|     5.0|    11.4|    18.4|                      193.6|             97.3|                         0.9|                        0.1|              1.1|             2.0|                       1|                         1|05:21 AM|07:54 PM|12:58 PM|02:14 AM|Waxing Gibbous|               55|\n",
            "|    Algeria|         Algiers|   36.76|     3.05|Africa/Algiers|        1715849100|2024-05-16 09:45|               23.0|                  73.4|         Sunny|     9.4|    15.1|        280|             W|     1011.0|      29.85|      0.0|      0.0|      29|    0|              24.6|                 76.4|         10.0|             6.0|     5.0|    13.9|    22.3|                      540.7|             12.2|                        65.1|                       13.4|             10.4|            18.4|                       1|                         1|05:40 AM|07:50 PM|01:15 PM|02:14 AM|Waxing Gibbous|               55|\n",
            "|    Andorra|Andorra La Vella|    42.5|     1.52|Europe/Andorra|        1715849100|2024-05-16 10:45|                6.3|                  43.3| Light drizzle|     7.4|    11.9|        215|            SW|     1007.0|      29.75|      0.3|     0.01|      61|  100|               3.8|                 38.9|          2.0|             1.0|     2.0|     8.5|    13.7|                      170.2|             64.4|                         1.6|                        0.2|              0.7|             0.9|                       1|                         1|06:31 AM|09:11 PM|02:12 PM|03:31 AM|Waxing Gibbous|               55|\n",
            "|     Angola|          Luanda|   -8.84|    13.23| Africa/Luanda|        1715849100|2024-05-16 09:45|               26.0|                  78.8| Partly cloudy|     8.1|    13.0|        150|           SSE|     1011.0|      29.85|      0.0|      0.0|      89|   50|              28.7|                 83.6|         10.0|             6.0|     8.0|    12.5|    20.2|                     2964.0|             19.0|                        72.7|                       31.5|            183.4|           262.3|                       5|                        10|06:12 AM|05:55 PM|01:17 PM|12:38 AM|Waxing Gibbous|               55|\n",
            "+-----------+----------------+--------+---------+--------------+------------------+----------------+-------------------+----------------------+--------------+--------+--------+-----------+--------------+-----------+-----------+---------+---------+--------+-----+------------------+---------------------+-------------+----------------+--------+--------+--------+---------------------------+-----------------+----------------------------+---------------------------+-----------------+----------------+------------------------+--------------------------+--------+--------+--------+--------+--------------+-----------------+\n",
            "only showing top 5 rows\n",
            "\n"
          ]
        }
      ]
    },
    {
      "cell_type": "code",
      "source": [
        "from pydeequ.profiles import *\n",
        "\n",
        "result = ColumnProfilerRunner(spark) \\\n",
        "            .onData(df) \\\n",
        "            .run()"
      ],
      "metadata": {
        "id": "-ZyPJ8FuN74d"
      },
      "execution_count": null,
      "outputs": []
    },
    {
      "cell_type": "code",
      "source": [
        "for col, profile in result.profiles.items():\n",
        "    print(f\"Column: '{col}'\")\n",
        "    print(f\"{'':>4}completeness: {profile.completeness}\")\n",
        "    print(f\"{'':>4}approximate number of distinct values: {profile.approximateNumDistinctValues}\")\n",
        "    print(f\"{'':>4}datatype: {profile.dataType}\\n\")\n"
      ],
      "metadata": {
        "colab": {
          "base_uri": "https://localhost:8080/"
        },
        "id": "2IBkqCPTOmG2",
        "outputId": "5015b08d-63a6-4c79-d68c-c9f283cd6fbe"
      },
      "execution_count": null,
      "outputs": [
        {
          "output_type": "stream",
          "name": "stdout",
          "text": [
            "Column: 'wind_kph'\n",
            "    completeness: 1.0\n",
            "    approximate number of distinct values: 153\n",
            "    datatype: Fractional\n",
            "\n",
            "Column: 'wind_degree'\n",
            "    completeness: 1.0\n",
            "    approximate number of distinct values: 355\n",
            "    datatype: Integral\n",
            "\n",
            "Column: 'precip_in'\n",
            "    completeness: 1.0\n",
            "    approximate number of distinct values: 55\n",
            "    datatype: Fractional\n",
            "\n",
            "Column: 'gust_mph'\n",
            "    completeness: 1.0\n",
            "    approximate number of distinct values: 457\n",
            "    datatype: Fractional\n",
            "\n",
            "Column: 'air_quality_PM10'\n",
            "    completeness: 1.0\n",
            "    approximate number of distinct values: 3369\n",
            "    datatype: Fractional\n",
            "\n",
            "Column: 'latitude'\n",
            "    completeness: 1.0\n",
            "    approximate number of distinct values: 377\n",
            "    datatype: Fractional\n",
            "\n",
            "Column: 'air_quality_Ozone'\n",
            "    completeness: 1.0\n",
            "    approximate number of distinct values: 624\n",
            "    datatype: Fractional\n",
            "\n",
            "Column: '`air_quality_PM2.5`'\n",
            "    completeness: 1.0\n",
            "    approximate number of distinct values: 2204\n",
            "    datatype: Fractional\n",
            "\n",
            "Column: 'timezone'\n",
            "    completeness: 1.0\n",
            "    approximate number of distinct values: 180\n",
            "    datatype: String\n",
            "\n",
            "Column: 'air_quality_gb-defra-index'\n",
            "    completeness: 1.0\n",
            "    approximate number of distinct values: 10\n",
            "    datatype: Integral\n",
            "\n",
            "Column: 'location_name'\n",
            "    completeness: 1.0\n",
            "    approximate number of distinct values: 244\n",
            "    datatype: String\n",
            "\n",
            "Column: 'air_quality_us-epa-index'\n",
            "    completeness: 1.0\n",
            "    approximate number of distinct values: 6\n",
            "    datatype: Integral\n",
            "\n",
            "Column: 'country'\n",
            "    completeness: 1.0\n",
            "    approximate number of distinct values: 199\n",
            "    datatype: String\n",
            "\n",
            "Column: 'condition_text'\n",
            "    completeness: 1.0\n",
            "    approximate number of distinct values: 36\n",
            "    datatype: String\n",
            "\n",
            "Column: 'moon_phase'\n",
            "    completeness: 1.0\n",
            "    approximate number of distinct values: 8\n",
            "    datatype: String\n",
            "\n",
            "Column: 'longitude'\n",
            "    completeness: 1.0\n",
            "    approximate number of distinct values: 375\n",
            "    datatype: Fractional\n",
            "\n",
            "Column: 'moonset'\n",
            "    completeness: 1.0\n",
            "    approximate number of distinct values: 1466\n",
            "    datatype: String\n",
            "\n",
            "Column: 'gust_kph'\n",
            "    completeness: 1.0\n",
            "    approximate number of distinct values: 676\n",
            "    datatype: Fractional\n",
            "\n",
            "Column: 'temperature_fahrenheit'\n",
            "    completeness: 1.0\n",
            "    approximate number of distinct values: 783\n",
            "    datatype: Fractional\n",
            "\n",
            "Column: 'humidity'\n",
            "    completeness: 1.0\n",
            "    approximate number of distinct values: 101\n",
            "    datatype: Integral\n",
            "\n",
            "Column: 'cloud'\n",
            "    completeness: 1.0\n",
            "    approximate number of distinct values: 104\n",
            "    datatype: Integral\n",
            "\n",
            "Column: 'pressure_mb'\n",
            "    completeness: 1.0\n",
            "    approximate number of distinct values: 66\n",
            "    datatype: Fractional\n",
            "\n",
            "Column: 'last_updated'\n",
            "    completeness: 1.0\n",
            "    approximate number of distinct values: 5373\n",
            "    datatype: String\n",
            "\n",
            "Column: 'temperature_celsius'\n",
            "    completeness: 1.0\n",
            "    approximate number of distinct values: 523\n",
            "    datatype: Fractional\n",
            "\n",
            "Column: 'wind_direction'\n",
            "    completeness: 1.0\n",
            "    approximate number of distinct values: 15\n",
            "    datatype: String\n",
            "\n",
            "Column: 'sunrise'\n",
            "    completeness: 1.0\n",
            "    approximate number of distinct values: 382\n",
            "    datatype: String\n",
            "\n",
            "Column: 'air_quality_Nitrogen_dioxide'\n",
            "    completeness: 1.0\n",
            "    approximate number of distinct values: 1200\n",
            "    datatype: Fractional\n",
            "\n",
            "Column: 'feels_like_celsius'\n",
            "    completeness: 1.0\n",
            "    approximate number of distinct values: 605\n",
            "    datatype: Fractional\n",
            "\n",
            "Column: 'visibility_miles'\n",
            "    completeness: 1.0\n",
            "    approximate number of distinct values: 13\n",
            "    datatype: Fractional\n",
            "\n",
            "Column: 'sunset'\n",
            "    completeness: 1.0\n",
            "    approximate number of distinct values: 496\n",
            "    datatype: String\n",
            "\n",
            "Column: 'feels_like_fahrenheit'\n",
            "    completeness: 1.0\n",
            "    approximate number of distinct values: 930\n",
            "    datatype: Fractional\n",
            "\n",
            "Column: 'moon_illumination'\n",
            "    completeness: 1.0\n",
            "    approximate number of distinct values: 86\n",
            "    datatype: Integral\n",
            "\n",
            "Column: 'air_quality_Sulphur_dioxide'\n",
            "    completeness: 1.0\n",
            "    approximate number of distinct values: 1142\n",
            "    datatype: Fractional\n",
            "\n",
            "Column: 'pressure_in'\n",
            "    completeness: 1.0\n",
            "    approximate number of distinct values: 162\n",
            "    datatype: Fractional\n",
            "\n",
            "Column: 'visibility_km'\n",
            "    completeness: 1.0\n",
            "    approximate number of distinct values: 63\n",
            "    datatype: Fractional\n",
            "\n",
            "Column: 'precip_mm'\n",
            "    completeness: 1.0\n",
            "    approximate number of distinct values: 444\n",
            "    datatype: Fractional\n",
            "\n",
            "Column: 'air_quality_Carbon_Monoxide'\n",
            "    completeness: 1.0\n",
            "    approximate number of distinct values: 1900\n",
            "    datatype: Fractional\n",
            "\n",
            "Column: 'wind_mph'\n",
            "    completeness: 1.0\n",
            "    approximate number of distinct values: 158\n",
            "    datatype: Fractional\n",
            "\n",
            "Column: 'last_updated_epoch'\n",
            "    completeness: 1.0\n",
            "    approximate number of distinct values: 252\n",
            "    datatype: Integral\n",
            "\n",
            "Column: 'moonrise'\n",
            "    completeness: 1.0\n",
            "    approximate number of distinct values: 1466\n",
            "    datatype: String\n",
            "\n",
            "Column: 'uv_index'\n",
            "    completeness: 1.0\n",
            "    approximate number of distinct values: 147\n",
            "    datatype: Fractional\n",
            "\n"
          ]
        }
      ]
    },
    {
      "cell_type": "markdown",
      "source": [
        "## **III. Aplicación de Deequ analyzer**"
      ],
      "metadata": {
        "id": "oaVKWbBJRgnR"
      }
    },
    {
      "cell_type": "markdown",
      "source": [
        "\n",
        "\n",
        "En esta sescción, usaremos la herramienta para realizar una evaluación más elaborada de los datos, utilizando métricas predefinidas para analizar su contenido (media, moda, correlaciones, etc)."
      ],
      "metadata": {
        "id": "pS-kleLTcihK"
      }
    },
    {
      "cell_type": "code",
      "source": [
        "from pydeequ.analyzers import *\n",
        "from pyspark.sql.functions import col, count, desc"
      ],
      "metadata": {
        "id": "Iz9yqXtJbZ23"
      },
      "execution_count": null,
      "outputs": []
    },
    {
      "cell_type": "code",
      "source": [
        "from pyspark.sql.functions import col\n",
        "\n",
        "# Debemos asegurarnos que las variables numércias sean realmente numéricas para los ejercicios de correlación\n",
        "\n",
        "df = df.withColumn(\"temperature_celsius\", col(\"temperature_celsius\").cast(\"double\"))\n",
        "df = df.withColumn(\"humidity\", col(\"humidity\").cast(\"double\"))\n",
        "df = df.withColumn(\"feels_like_celsius\", col(\"feels_like_celsius\").cast(\"double\"))\n",
        "df = df.withColumn(\"pressure_mb\", col(\"pressure_mb\").cast(\"double\"))\n",
        "df = df.withColumn(\"precip_mm\", col(\"precip_mm\").cast(\"double\"))\n",
        "df = df.withColumn(\"visibility_km\", col(\"visibility_km\").cast(\"double\"))\n",
        "df = df.withColumn(\"uv_index\", col(\"uv_index\").cast(\"double\"))\n",
        "\n",
        "df.printSchema()\n"
      ],
      "metadata": {
        "colab": {
          "base_uri": "https://localhost:8080/"
        },
        "id": "tAS0JGztxxJK",
        "outputId": "515d862d-ae40-4299-9f4b-3b9e836ad4db"
      },
      "execution_count": null,
      "outputs": [
        {
          "output_type": "stream",
          "name": "stdout",
          "text": [
            "root\n",
            " |-- country: string (nullable = true)\n",
            " |-- location_name: string (nullable = true)\n",
            " |-- latitude: string (nullable = true)\n",
            " |-- longitude: string (nullable = true)\n",
            " |-- timezone: string (nullable = true)\n",
            " |-- last_updated_epoch: string (nullable = true)\n",
            " |-- last_updated: string (nullable = true)\n",
            " |-- temperature_celsius: double (nullable = true)\n",
            " |-- temperature_fahrenheit: string (nullable = true)\n",
            " |-- condition_text: string (nullable = true)\n",
            " |-- wind_mph: string (nullable = true)\n",
            " |-- wind_kph: string (nullable = true)\n",
            " |-- wind_degree: string (nullable = true)\n",
            " |-- wind_direction: string (nullable = true)\n",
            " |-- pressure_mb: double (nullable = true)\n",
            " |-- pressure_in: string (nullable = true)\n",
            " |-- precip_mm: double (nullable = true)\n",
            " |-- precip_in: string (nullable = true)\n",
            " |-- humidity: double (nullable = true)\n",
            " |-- cloud: string (nullable = true)\n",
            " |-- feels_like_celsius: double (nullable = true)\n",
            " |-- feels_like_fahrenheit: string (nullable = true)\n",
            " |-- visibility_km: double (nullable = true)\n",
            " |-- visibility_miles: string (nullable = true)\n",
            " |-- uv_index: double (nullable = true)\n",
            " |-- gust_mph: string (nullable = true)\n",
            " |-- gust_kph: string (nullable = true)\n",
            " |-- air_quality_Carbon_Monoxide: string (nullable = true)\n",
            " |-- air_quality_Ozone: string (nullable = true)\n",
            " |-- air_quality_Nitrogen_dioxide: string (nullable = true)\n",
            " |-- air_quality_Sulphur_dioxide: string (nullable = true)\n",
            " |-- air_quality_PM2.5: string (nullable = true)\n",
            " |-- air_quality_PM10: string (nullable = true)\n",
            " |-- air_quality_us-epa-index: string (nullable = true)\n",
            " |-- air_quality_gb-defra-index: string (nullable = true)\n",
            " |-- sunrise: string (nullable = true)\n",
            " |-- sunset: string (nullable = true)\n",
            " |-- moonrise: string (nullable = true)\n",
            " |-- moonset: string (nullable = true)\n",
            " |-- moon_phase: string (nullable = true)\n",
            " |-- moon_illumination: string (nullable = true)\n",
            "\n"
          ]
        }
      ]
    },
    {
      "cell_type": "markdown",
      "source": [
        "**Número de Registros**\n",
        "\n",
        "En el Dataset se identificaron un total de 34.719 registros, que corresponden a la informacion o seguimiento del clima a nivel mundial.\n"
      ],
      "metadata": {
        "id": "en30SRnjc1n3"
      }
    },
    {
      "cell_type": "code",
      "source": [
        "num_registros = df.count()\n",
        "\n",
        "print(f\"Número de registros en el dataset: {num_registros}\")\n"
      ],
      "metadata": {
        "colab": {
          "base_uri": "https://localhost:8080/"
        },
        "id": "5ajFc9eOb1v2",
        "outputId": "422bf5c8-3bde-4eef-af6f-49f4d5a4185b"
      },
      "execution_count": null,
      "outputs": [
        {
          "output_type": "stream",
          "name": "stdout",
          "text": [
            "Número de registros en el dataset: 34719\n"
          ]
        }
      ]
    },
    {
      "cell_type": "markdown",
      "source": [
        "**Análisis Inicial de las Variables**\n",
        "\n",
        "Se encontró que la temperatura promedio para los países analizados teniendo en cuenta la última fecha de actualización fue de 25.14 grados. Por su parte, el valor promedio de la humedad es de 61.71.\n",
        "\n",
        "Adicionalmente, se hizo un ejercicio de evaluar cuál es el Índice de Calidad del Aire que más se repite a lo largo del dataset, el cual correspondió a \"1\"."
      ],
      "metadata": {
        "id": "wRQxXrbsiTji"
      }
    },
    {
      "cell_type": "code",
      "source": [
        "analysis_result = AnalysisRunner(spark) \\\n",
        "    .onData(df) \\\n",
        "    .addAnalyzer(Mean(\"temperature_celsius\")) \\\n",
        "    .addAnalyzer(Mean(\"humidity\")) \\\n",
        "    .run()\n",
        "\n",
        "\n",
        "analysis_result_df = AnalyzerContext.successMetricsAsDataFrame(spark, analysis_result)\n",
        "analysis_result_df.show(truncate=False)\n",
        "\n",
        "\n",
        "mode_air_quality = df.groupBy(\"air_quality_us-epa-index\") \\\n",
        "    .agg(count(\"air_quality_us-epa-index\").alias(\"count\")) \\\n",
        "    .orderBy(desc(\"count\")) \\\n",
        "    .first()\n",
        "\n",
        "\n",
        "mode_condition_text = df.groupBy(\"condition_text\") \\\n",
        "    .agg(count(\"condition_text\").alias(\"count\")) \\\n",
        "    .orderBy(desc(\"count\")) \\\n",
        "    .first()\n",
        "\n",
        "\n",
        "print(f\"Moda de air_quality_us-epa-index: {mode_air_quality['air_quality_us-epa-index']}\")\n",
        "print(f\"Moda de condition_text: {mode_condition_text['condition_text']}\")\n"
      ],
      "metadata": {
        "colab": {
          "base_uri": "https://localhost:8080/"
        },
        "id": "gMK-SqKQd_zE",
        "outputId": "dc58c470-30eb-4138-a0a3-ef9b00048add"
      },
      "execution_count": null,
      "outputs": [
        {
          "output_type": "stream",
          "name": "stdout",
          "text": [
            "+------+-------------------+----+------------------+\n",
            "|entity|instance           |name|value             |\n",
            "+------+-------------------+----+------------------+\n",
            "|Column|temperature_celsius|Mean|25.145001296119528|\n",
            "|Column|humidity           |Mean|61.71197327111956 |\n",
            "+------+-------------------+----+------------------+\n",
            "\n",
            "Moda de air_quality_us-epa-index: 1\n",
            "Moda de condition_text: Partly cloudy\n"
          ]
        }
      ]
    },
    {
      "cell_type": "markdown",
      "source": [
        "**Revisión de Completitud de las Variables**\n",
        "\n",
        "Se tomaron de manera aleatoria una lista de variables para revisar la completitud del dataset, en ese ejercicio se identificó que cada una de ellas está al 100%, algo que se presumía debido a que es una dataset proveniente de Kaggle."
      ],
      "metadata": {
        "id": "Jfj-0zq0eORn"
      }
    },
    {
      "cell_type": "code",
      "source": [
        "from pydeequ.analyzers import *\n",
        "\n",
        "analysis_result = AnalysisRunner(spark) \\\n",
        "    .onData(df) \\\n",
        "    .addAnalyzer(Completeness(\"country\")) \\\n",
        "    .addAnalyzer(Completeness(\"temperature_celsius\")) \\\n",
        "    .addAnalyzer(Completeness(\"condition_text\")) \\\n",
        "    .addAnalyzer(Completeness(\"humidity\")) \\\n",
        "    .addAnalyzer(Completeness(\"cloud\")) \\\n",
        "    .addAnalyzer(Completeness(\"air_quality_Carbon_Monoxide\")) \\\n",
        "    .addAnalyzer(Completeness(\"moon_phase\")) \\\n",
        "    .run()\n",
        "\n",
        "analysis_result_df = AnalyzerContext.successMetricsAsDataFrame(spark, analysis_result)\n",
        "analysis_result_df.show(truncate=False)\n"
      ],
      "metadata": {
        "colab": {
          "base_uri": "https://localhost:8080/"
        },
        "id": "38rwT29Dh0A_",
        "outputId": "cd4f245f-27e6-40b3-8856-ba439160ce6b"
      },
      "execution_count": null,
      "outputs": [
        {
          "output_type": "stream",
          "name": "stdout",
          "text": [
            "+------+---------------------------+------------+-----+\n",
            "|entity|instance                   |name        |value|\n",
            "+------+---------------------------+------------+-----+\n",
            "|Column|humidity                   |Completeness|1.0  |\n",
            "|Column|temperature_celsius        |Completeness|1.0  |\n",
            "|Column|country                    |Completeness|1.0  |\n",
            "|Column|air_quality_Carbon_Monoxide|Completeness|1.0  |\n",
            "|Column|cloud                      |Completeness|1.0  |\n",
            "|Column|condition_text             |Completeness|1.0  |\n",
            "|Column|moon_phase                 |Completeness|1.0  |\n",
            "+------+---------------------------+------------+-----+\n",
            "\n"
          ]
        }
      ]
    },
    {
      "cell_type": "markdown",
      "source": [
        "**Revisión de Correlación**\n",
        "\n",
        "Haciendo uso del Analyzer, se propusieron una serie de ejercicios de correlación entre algunas de las variables del Dataset. Se mencionarán algunos resultados.\n",
        "\n",
        "* Temperatura en grados celsius y Humedad\n",
        "\n",
        "Hay una relación negativa moderada entre la temperatura en grados celsius y la humedad. Es decir, que cuando la temperatura aumenta la humedad disminuye.\n",
        "\n",
        "* Temperatura en grados celsius y Percepción de la Temperatura en Celsius\n",
        "\n",
        "Como era de esperarse, hay una relación positiva fuerte entre estas dos variables, pues a medida que aumenta la temperatura real también aumenta la percepción que tienen las personas de la misma.\n",
        "\n",
        "* Presión Atmosférica y Precipitaciones\n",
        "\n",
        "Se encontró una relación negativa débil entre estas variables, se esperaba entender si habría alguna relación entre la presión atmosférica y el comportamiento de las precipitaciones.\n",
        "\n",
        "* Visibilidad y Precipitaciones\n",
        "\n",
        "Buscando entender si hay alguna relación entre la visibilidad y las condiciones meteorológicas se llevó a cabo esta correlación, sin embargo, no se encontró un resultado concluyente.\n",
        "\n",
        "\n",
        "\n",
        "\n"
      ],
      "metadata": {
        "id": "kvUGryYIkH_W"
      }
    },
    {
      "cell_type": "code",
      "source": [
        "analysis_result = AnalysisRunner(spark) \\\n",
        "    .onData(df) \\\n",
        "    .addAnalyzer(Correlation(\"temperature_celsius\", \"humidity\")) \\\n",
        "    .addAnalyzer(Correlation(\"temperature_celsius\", \"feels_like_celsius\")) \\\n",
        "    .addAnalyzer(Correlation(\"pressure_mb\", \"precip_mm\")) \\\n",
        "    .addAnalyzer(Correlation(\"visibility_km\", \"precip_mm\")) \\\n",
        "    .addAnalyzer(Correlation(\"uv_index\", \"temperature_celsius\")) \\\n",
        "    .run()\n",
        "\n",
        "\n",
        "analysis_result_df = AnalyzerContext.successMetricsAsDataFrame(spark, analysis_result)\n",
        "analysis_result_df.show(truncate=False)"
      ],
      "metadata": {
        "colab": {
          "base_uri": "https://localhost:8080/"
        },
        "id": "EQIeiNHEkKZx",
        "outputId": "7da1ce3d-1405-4230-a998-cc1f6f5ef5bb"
      },
      "execution_count": null,
      "outputs": [
        {
          "output_type": "stream",
          "name": "stdout",
          "text": [
            "+-----------+--------------------------------------+-----------+---------------------+\n",
            "|entity     |instance                              |name       |value                |\n",
            "+-----------+--------------------------------------+-----------+---------------------+\n",
            "|Multicolumn|visibility_km,precip_mm               |Correlation|-0.053913157286846834|\n",
            "|Multicolumn|pressure_mb,precip_mm                 |Correlation|-0.08444269156530587 |\n",
            "|Multicolumn|temperature_celsius,humidity          |Correlation|-0.43887640288206986 |\n",
            "|Multicolumn|temperature_celsius,feels_like_celsius|Correlation|0.962228467690046    |\n",
            "|Multicolumn|uv_index,temperature_celsius          |Correlation|0.5392357392280297   |\n",
            "+-----------+--------------------------------------+-----------+---------------------+\n",
            "\n"
          ]
        }
      ]
    },
    {
      "cell_type": "code",
      "source": [
        "import matplotlib.pyplot as plt\n",
        "import seaborn as sns\n",
        "\n",
        "values = [\n",
        "\t'visibility_km',\n",
        "\t'precip_mm',\n",
        "  'pressure_mb',\n",
        "\t'temperature_celsius',\n",
        "\t'humidity',\n",
        "  'feels_like_celsius',\n",
        "  'uv_index',\n",
        "]\n",
        "\n",
        "selected_data = df.select(values).toPandas()\n",
        "correlation_matrix = selected_data.corr()\n",
        "\n",
        "plt.figure(figsize=(7, 7))\n",
        "\n",
        "sns.heatmap(correlation_matrix, annot=True, cmap=\"coolwarm\", fmt=\".2f\", square=True, cbar=True)\n",
        "\n",
        "plt.title(\"Matríz de Correlación para Variables Seleccionadas\")\n",
        "plt.tight_layout()\n",
        "\n",
        "plt.show()"
      ],
      "metadata": {
        "colab": {
          "base_uri": "https://localhost:8080/",
          "height": 684
        },
        "id": "IzulGj8WubUb",
        "outputId": "53ea6e33-c4bc-450b-aa03-cf7521d7c949"
      },
      "execution_count": null,
      "outputs": [
        {
          "output_type": "display_data",
          "data": {
            "text/plain": [
              "<Figure size 700x700 with 2 Axes>"
            ],
            "image/png": "[encoded data removed]"
          },
          "metadata": {}
        }
      ]
    },
    {
      "cell_type": "markdown",
      "source": [
        "**Revisión de Máximos y Mínimos**\n",
        "\n",
        "* En el análisis propuesto, se encontró que la temperatura más baja registrada es de -12,1 grados celsius, lo que indica que hay países con condiciones climáticas extremadamente frías. También, se encontró que la temperatura más alta registrada es de 49,2 grados celsius.\n",
        "\n",
        "* En relación con la variable de precipitación, uno de los resultados interesantes que sugieren los datos es que existen lugares en los cuales no se registran lluvias en el periodo de medición. La precipitación más alta fue de 42.24 mm\n",
        "\n",
        "\n"
      ],
      "metadata": {
        "id": "QD5C9huzntz7"
      }
    },
    {
      "cell_type": "code",
      "source": [
        "analysis_result = AnalysisRunner(spark) \\\n",
        "    .onData(df) \\\n",
        "    .addAnalyzer(Minimum(\"temperature_celsius\")) \\\n",
        "    .addAnalyzer(Maximum(\"temperature_celsius\")) \\\n",
        "    .addAnalyzer(Minimum(\"precip_mm\")) \\\n",
        "    .addAnalyzer(Maximum(\"precip_mm\")) \\\n",
        "    .addAnalyzer(Minimum(\"wind_degree\")) \\\n",
        "    .addAnalyzer(Maximum(\"wind_degree\")) \\\n",
        "    .run()\n",
        "\n",
        "\n",
        "analysis_result_df = AnalyzerContext.successMetricsAsDataFrame(spark, analysis_result)\n",
        "analysis_result_df.show(truncate=False)"
      ],
      "metadata": {
        "colab": {
          "base_uri": "https://localhost:8080/"
        },
        "id": "7c4VHxJMntnB",
        "outputId": "81eed156-6877-4e52-e881-eafc58aa0fc6"
      },
      "execution_count": null,
      "outputs": [
        {
          "output_type": "stream",
          "name": "stdout",
          "text": [
            "+------+-------------------+-------+-----+\n",
            "|entity|instance           |name   |value|\n",
            "+------+-------------------+-------+-----+\n",
            "|Column|temperature_celsius|Minimum|-12.1|\n",
            "|Column|temperature_celsius|Maximum|49.2 |\n",
            "|Column|precip_mm          |Minimum|0.0  |\n",
            "|Column|precip_mm          |Maximum|42.24|\n",
            "+------+-------------------+-------+-----+\n",
            "\n"
          ]
        }
      ]
    },
    {
      "cell_type": "markdown",
      "source": [
        "## **IV. Aplicación de Deequ Anomaly Detection**"
      ],
      "metadata": {
        "id": "zOPcn8Z4vFvf"
      }
    },
    {
      "cell_type": "markdown",
      "source": [
        "### **Ejercicio de Detección # 1**\n",
        "\n",
        "En esta primera aproximación, se decidió implementar una regla de negocio para el dataset propuesto, la cual establece que los datos nuevos que ingresan al conjunto de información no pueden ser inferiores a 20.000 registros.\n",
        "\n",
        "Es importante mencionar que, para este ejercicio se han tomado como datos históricos los primeros 30.000 registros de la base de datos, mientras que los registros restantes se han considerado como datos nuevos."
      ],
      "metadata": {
        "id": "Dlmi21TFPOZd"
      }
    },
    {
      "cell_type": "code",
      "source": [
        "!pip install pydeequ\n"
      ],
      "metadata": {
        "colab": {
          "base_uri": "https://localhost:8080/"
        },
        "id": "F_ci1QBi-C3Z",
        "outputId": "0397ec4f-df0e-4dc8-b93b-3c9ea23954fb"
      },
      "execution_count": null,
      "outputs": [
        {
          "output_type": "stream",
          "name": "stdout",
          "text": [
            "Requirement already satisfied: pydeequ in /usr/local/lib/python3.10/dist-packages (1.4.0)\n",
            "Requirement already satisfied: numpy>=1.14.1 in /usr/local/lib/python3.10/dist-packages (from pydeequ) (1.26.4)\n",
            "Requirement already satisfied: pandas>=0.23.0 in /usr/local/lib/python3.10/dist-packages (from pydeequ) (2.2.2)\n",
            "Requirement already satisfied: python-dateutil>=2.8.2 in /usr/local/lib/python3.10/dist-packages (from pandas>=0.23.0->pydeequ) (2.8.2)\n",
            "Requirement already satisfied: pytz>=2020.1 in /usr/local/lib/python3.10/dist-packages (from pandas>=0.23.0->pydeequ) (2024.2)\n",
            "Requirement already satisfied: tzdata>=2022.7 in /usr/local/lib/python3.10/dist-packages (from pandas>=0.23.0->pydeequ) (2024.2)\n",
            "Requirement already satisfied: six>=1.5 in /usr/local/lib/python3.10/dist-packages (from python-dateutil>=2.8.2->pandas>=0.23.0->pydeequ) (1.16.0)\n"
          ]
        }
      ]
    },
    {
      "cell_type": "code",
      "source": [
        "from pyspark.sql import SparkSession, Row\n",
        "import pydeequ\n",
        "from pydeequ.repository import *\n",
        "from pydeequ.verification import *\n",
        "from pydeequ.analyzers import Size\n",
        "from pydeequ.anomaly_detection import AbsoluteChangeStrategy\n",
        "\n",
        "# Sesión de Spark\n",
        "\n",
        "spark = (SparkSession\n",
        "    .builder\n",
        "    .config(\"spark.jars.packages\", pydeequ.deequ_maven_coord)\n",
        "    .config(\"spark.jars.excludes\", pydeequ.f2j_maven_coord)\n",
        "    .getOrCreate())\n",
        "sc = spark.sparkContext\n",
        "\n",
        "\n",
        "from google.colab import drive\n",
        "drive.mount('/content/drive')\n",
        "\n",
        "\n",
        "file_path = '/content/drive/MyDrive/Maestria_Ciencia_Datos/Semestre_2/Cloud/Taller_Final_Amariles/GlobalWeatherRepository.csv'\n",
        "df = spark.read.option(\"header\", \"true\").csv(file_path)\n",
        "df.printSchema()\n",
        "df.show(5)\n"
      ],
      "metadata": {
        "colab": {
          "base_uri": "https://localhost:8080/"
        },
        "id": "adOqc6YQCkSZ",
        "outputId": "0d48b9c1-0e69-4f04-8fe0-0da3e1d83f19"
      },
      "execution_count": null,
      "outputs": [
        {
          "output_type": "stream",
          "name": "stdout",
          "text": [
            "Drive already mounted at /content/drive; to attempt to forcibly remount, call drive.mount(\"/content/drive\", force_remount=True).\n",
            "root\n",
            " |-- country: string (nullable = true)\n",
            " |-- location_name: string (nullable = true)\n",
            " |-- latitude: string (nullable = true)\n",
            " |-- longitude: string (nullable = true)\n",
            " |-- timezone: string (nullable = true)\n",
            " |-- last_updated_epoch: string (nullable = true)\n",
            " |-- last_updated: string (nullable = true)\n",
            " |-- temperature_celsius: string (nullable = true)\n",
            " |-- temperature_fahrenheit: string (nullable = true)\n",
            " |-- condition_text: string (nullable = true)\n",
            " |-- wind_mph: string (nullable = true)\n",
            " |-- wind_kph: string (nullable = true)\n",
            " |-- wind_degree: string (nullable = true)\n",
            " |-- wind_direction: string (nullable = true)\n",
            " |-- pressure_mb: string (nullable = true)\n",
            " |-- pressure_in: string (nullable = true)\n",
            " |-- precip_mm: string (nullable = true)\n",
            " |-- precip_in: string (nullable = true)\n",
            " |-- humidity: string (nullable = true)\n",
            " |-- cloud: string (nullable = true)\n",
            " |-- feels_like_celsius: string (nullable = true)\n",
            " |-- feels_like_fahrenheit: string (nullable = true)\n",
            " |-- visibility_km: string (nullable = true)\n",
            " |-- visibility_miles: string (nullable = true)\n",
            " |-- uv_index: string (nullable = true)\n",
            " |-- gust_mph: string (nullable = true)\n",
            " |-- gust_kph: string (nullable = true)\n",
            " |-- air_quality_Carbon_Monoxide: string (nullable = true)\n",
            " |-- air_quality_Ozone: string (nullable = true)\n",
            " |-- air_quality_Nitrogen_dioxide: string (nullable = true)\n",
            " |-- air_quality_Sulphur_dioxide: string (nullable = true)\n",
            " |-- air_quality_PM2.5: string (nullable = true)\n",
            " |-- air_quality_PM10: string (nullable = true)\n",
            " |-- air_quality_us-epa-index: string (nullable = true)\n",
            " |-- air_quality_gb-defra-index: string (nullable = true)\n",
            " |-- sunrise: string (nullable = true)\n",
            " |-- sunset: string (nullable = true)\n",
            " |-- moonrise: string (nullable = true)\n",
            " |-- moonset: string (nullable = true)\n",
            " |-- moon_phase: string (nullable = true)\n",
            " |-- moon_illumination: string (nullable = true)\n",
            "\n",
            "+-----------+----------------+--------+---------+--------------+------------------+----------------+-------------------+----------------------+--------------+--------+--------+-----------+--------------+-----------+-----------+---------+---------+--------+-----+------------------+---------------------+-------------+----------------+--------+--------+--------+---------------------------+-----------------+----------------------------+---------------------------+-----------------+----------------+------------------------+--------------------------+--------+--------+--------+--------+--------------+-----------------+\n",
            "|    country|   location_name|latitude|longitude|      timezone|last_updated_epoch|    last_updated|temperature_celsius|temperature_fahrenheit|condition_text|wind_mph|wind_kph|wind_degree|wind_direction|pressure_mb|pressure_in|precip_mm|precip_in|humidity|cloud|feels_like_celsius|feels_like_fahrenheit|visibility_km|visibility_miles|uv_index|gust_mph|gust_kph|air_quality_Carbon_Monoxide|air_quality_Ozone|air_quality_Nitrogen_dioxide|air_quality_Sulphur_dioxide|air_quality_PM2.5|air_quality_PM10|air_quality_us-epa-index|air_quality_gb-defra-index| sunrise|  sunset|moonrise| moonset|    moon_phase|moon_illumination|\n",
            "+-----------+----------------+--------+---------+--------------+------------------+----------------+-------------------+----------------------+--------------+--------+--------+-----------+--------------+-----------+-----------+---------+---------+--------+-----+------------------+---------------------+-------------+----------------+--------+--------+--------+---------------------------+-----------------+----------------------------+---------------------------+-----------------+----------------+------------------------+--------------------------+--------+--------+--------+--------+--------------+-----------------+\n",
            "|Afghanistan|           Kabul|   34.52|    69.18|    Asia/Kabul|        1715849100|2024-05-16 13:15|               26.6|                  79.8| Partly Cloudy|     8.3|    13.3|        338|           NNW|     1012.0|      29.89|      0.0|      0.0|      24|   30|              25.3|                 77.5|         10.0|             6.0|     7.0|     9.5|    15.3|                      277.0|            103.0|                         1.1|                        0.2|              8.4|            26.6|                       1|                         1|04:50 AM|06:50 PM|12:12 PM|01:11 AM|Waxing Gibbous|               55|\n",
            "|    Albania|          Tirana|   41.33|    19.82| Europe/Tirane|        1715849100|2024-05-16 10:45|               19.0|                  66.2| Partly cloudy|     6.9|    11.2|        320|            NW|     1012.0|      29.88|      0.1|      0.0|      94|   75|              19.0|                 66.2|         10.0|             6.0|     5.0|    11.4|    18.4|                      193.6|             97.3|                         0.9|                        0.1|              1.1|             2.0|                       1|                         1|05:21 AM|07:54 PM|12:58 PM|02:14 AM|Waxing Gibbous|               55|\n",
            "|    Algeria|         Algiers|   36.76|     3.05|Africa/Algiers|        1715849100|2024-05-16 09:45|               23.0|                  73.4|         Sunny|     9.4|    15.1|        280|             W|     1011.0|      29.85|      0.0|      0.0|      29|    0|              24.6|                 76.4|         10.0|             6.0|     5.0|    13.9|    22.3|                      540.7|             12.2|                        65.1|                       13.4|             10.4|            18.4|                       1|                         1|05:40 AM|07:50 PM|01:15 PM|02:14 AM|Waxing Gibbous|               55|\n",
            "|    Andorra|Andorra La Vella|    42.5|     1.52|Europe/Andorra|        1715849100|2024-05-16 10:45|                6.3|                  43.3| Light drizzle|     7.4|    11.9|        215|            SW|     1007.0|      29.75|      0.3|     0.01|      61|  100|               3.8|                 38.9|          2.0|             1.0|     2.0|     8.5|    13.7|                      170.2|             64.4|                         1.6|                        0.2|              0.7|             0.9|                       1|                         1|06:31 AM|09:11 PM|02:12 PM|03:31 AM|Waxing Gibbous|               55|\n",
            "|     Angola|          Luanda|   -8.84|    13.23| Africa/Luanda|        1715849100|2024-05-16 09:45|               26.0|                  78.8| Partly cloudy|     8.1|    13.0|        150|           SSE|     1011.0|      29.85|      0.0|      0.0|      89|   50|              28.7|                 83.6|         10.0|             6.0|     8.0|    12.5|    20.2|                     2964.0|             19.0|                        72.7|                       31.5|            183.4|           262.3|                       5|                        10|06:12 AM|05:55 PM|01:17 PM|12:38 AM|Waxing Gibbous|               55|\n",
            "+-----------+----------------+--------+---------+--------------+------------------+----------------+-------------------+----------------------+--------------+--------+--------+-----------+--------------+-----------+-----------+---------+---------+--------+-----+------------------+---------------------+-------------+----------------+--------+--------+--------+---------------------------+-----------------+----------------------------+---------------------------+-----------------+----------------+------------------------+--------------------------+--------+--------+--------+--------+--------------+-----------------+\n",
            "only showing top 5 rows\n",
            "\n"
          ]
        }
      ]
    },
    {
      "cell_type": "markdown",
      "source": [
        "En este punto, se hace la división del dataset para simular los datos históricos y los datos nuevos."
      ],
      "metadata": {
        "id": "E5Nk1PhvYFHA"
      }
    },
    {
      "cell_type": "code",
      "source": [
        "historical_data = df.limit(30000)\n",
        "new_data = df.subtract(historical_data)\n",
        "\n",
        "print(\"Datos Históricos:\")\n",
        "historical_data.show(5, truncate=False)\n",
        "\n",
        "print(\"Datos Nuevos:\")\n",
        "new_data.show(5, truncate=False)\n"
      ],
      "metadata": {
        "colab": {
          "base_uri": "https://localhost:8080/"
        },
        "id": "38yB9mtnCpky",
        "outputId": "18dae09d-29f7-491b-93a9-e15454467aca"
      },
      "execution_count": null,
      "outputs": [
        {
          "output_type": "stream",
          "name": "stdout",
          "text": [
            "Datos Históricos:\n",
            "+-----------+----------------+--------+---------+--------------+------------------+----------------+-------------------+----------------------+--------------+--------+--------+-----------+--------------+-----------+-----------+---------+---------+--------+-----+------------------+---------------------+-------------+----------------+--------+--------+--------+---------------------------+-----------------+----------------------------+---------------------------+-----------------+----------------+------------------------+--------------------------+--------+--------+--------+--------+--------------+-----------------+\n",
            "|country    |location_name   |latitude|longitude|timezone      |last_updated_epoch|last_updated    |temperature_celsius|temperature_fahrenheit|condition_text|wind_mph|wind_kph|wind_degree|wind_direction|pressure_mb|pressure_in|precip_mm|precip_in|humidity|cloud|feels_like_celsius|feels_like_fahrenheit|visibility_km|visibility_miles|uv_index|gust_mph|gust_kph|air_quality_Carbon_Monoxide|air_quality_Ozone|air_quality_Nitrogen_dioxide|air_quality_Sulphur_dioxide|air_quality_PM2.5|air_quality_PM10|air_quality_us-epa-index|air_quality_gb-defra-index|sunrise |sunset  |moonrise|moonset |moon_phase    |moon_illumination|\n",
            "+-----------+----------------+--------+---------+--------------+------------------+----------------+-------------------+----------------------+--------------+--------+--------+-----------+--------------+-----------+-----------+---------+---------+--------+-----+------------------+---------------------+-------------+----------------+--------+--------+--------+---------------------------+-----------------+----------------------------+---------------------------+-----------------+----------------+------------------------+--------------------------+--------+--------+--------+--------+--------------+-----------------+\n",
            "|Afghanistan|Kabul           |34.52   |69.18    |Asia/Kabul    |1715849100        |2024-05-16 13:15|26.6               |79.8                  |Partly Cloudy |8.3     |13.3    |338        |NNW           |1012.0     |29.89      |0.0      |0.0      |24      |30   |25.3              |77.5                 |10.0         |6.0             |7.0     |9.5     |15.3    |277.0                      |103.0            |1.1                         |0.2                        |8.4              |26.6            |1                       |1                         |04:50 AM|06:50 PM|12:12 PM|01:11 AM|Waxing Gibbous|55               |\n",
            "|Albania    |Tirana          |41.33   |19.82    |Europe/Tirane |1715849100        |2024-05-16 10:45|19.0               |66.2                  |Partly cloudy |6.9     |11.2    |320        |NW            |1012.0     |29.88      |0.1      |0.0      |94      |75   |19.0              |66.2                 |10.0         |6.0             |5.0     |11.4    |18.4    |193.6                      |97.3             |0.9                         |0.1                        |1.1              |2.0             |1                       |1                         |05:21 AM|07:54 PM|12:58 PM|02:14 AM|Waxing Gibbous|55               |\n",
            "|Algeria    |Algiers         |36.76   |3.05     |Africa/Algiers|1715849100        |2024-05-16 09:45|23.0               |73.4                  |Sunny         |9.4     |15.1    |280        |W             |1011.0     |29.85      |0.0      |0.0      |29      |0    |24.6              |76.4                 |10.0         |6.0             |5.0     |13.9    |22.3    |540.7                      |12.2             |65.1                        |13.4                       |10.4             |18.4            |1                       |1                         |05:40 AM|07:50 PM|01:15 PM|02:14 AM|Waxing Gibbous|55               |\n",
            "|Andorra    |Andorra La Vella|42.5    |1.52     |Europe/Andorra|1715849100        |2024-05-16 10:45|6.3                |43.3                  |Light drizzle |7.4     |11.9    |215        |SW            |1007.0     |29.75      |0.3      |0.01     |61      |100  |3.8               |38.9                 |2.0          |1.0             |2.0     |8.5     |13.7    |170.2                      |64.4             |1.6                         |0.2                        |0.7              |0.9             |1                       |1                         |06:31 AM|09:11 PM|02:12 PM|03:31 AM|Waxing Gibbous|55               |\n",
            "|Angola     |Luanda          |-8.84   |13.23    |Africa/Luanda |1715849100        |2024-05-16 09:45|26.0               |78.8                  |Partly cloudy |8.1     |13.0    |150        |SSE           |1011.0     |29.85      |0.0      |0.0      |89      |50   |28.7              |83.6                 |10.0         |6.0             |8.0     |12.5    |20.2    |2964.0                     |19.0             |72.7                        |31.5                       |183.4            |262.3           |5                       |10                        |06:12 AM|05:55 PM|01:17 PM|12:38 AM|Waxing Gibbous|55               |\n",
            "+-----------+----------------+--------+---------+--------------+------------------+----------------+-------------------+----------------------+--------------+--------+--------+-----------+--------------+-----------+-----------+---------+---------+--------+-----+------------------+---------------------+-------------+----------------+--------+--------+--------+---------------------------+-----------------+----------------------------+---------------------------+-----------------+----------------+------------------------+--------------------------+--------+--------+--------+--------+--------------+-----------------+\n",
            "only showing top 5 rows\n",
            "\n",
            "Datos Nuevos:\n",
            "+--------+-------------+--------+---------+---------------+------------------+----------------+-------------------+----------------------+--------------+--------+--------+-----------+--------------+-----------+-----------+---------+---------+--------+-----+------------------+---------------------+-------------+----------------+--------+--------+--------+---------------------------+-----------------+----------------------------+---------------------------+-----------------+----------------+------------------------+--------------------------+--------+--------+--------+----------+---------------+-----------------+\n",
            "|country |location_name|latitude|longitude|timezone       |last_updated_epoch|last_updated    |temperature_celsius|temperature_fahrenheit|condition_text|wind_mph|wind_kph|wind_degree|wind_direction|pressure_mb|pressure_in|precip_mm|precip_in|humidity|cloud|feels_like_celsius|feels_like_fahrenheit|visibility_km|visibility_miles|uv_index|gust_mph|gust_kph|air_quality_Carbon_Monoxide|air_quality_Ozone|air_quality_Nitrogen_dioxide|air_quality_Sulphur_dioxide|air_quality_PM2.5|air_quality_PM10|air_quality_us-epa-index|air_quality_gb-defra-index|sunrise |sunset  |moonrise|moonset   |moon_phase     |moon_illumination|\n",
            "+--------+-------------+--------+---------+---------------+------------------+----------------+-------------------+----------------------+--------------+--------+--------+-----------+--------------+-----------+-----------+---------+---------+--------+-----+------------------+---------------------+-------------+----------------+--------+--------+--------+---------------------------+-----------------+----------------------------+---------------------------+-----------------+----------------+------------------------+--------------------------+--------+--------+--------+----------+---------------+-----------------+\n",
            "|Belgium |Brussels     |50.8333 |4.3333   |Europe/Brussels|1731142800        |2024-11-09 10:00|7.4                |45.3                  |Light rain    |3.4     |5.4     |181        |S             |1024.0     |30.24      |0.0      |0.0      |93      |100  |6.7               |44.0                 |8.0          |4.0             |0.3     |4.6     |7.5     |604.95                     |5.0              |51.06                       |4.625                      |63.455           |82.88           |3                       |8                         |07:49 AM|05:04 PM|02:40 PM|No moonset|First Quarter  |47               |\n",
            "|Cambodia|Phnom Penh   |11.55   |104.9167 |Asia/Phnom_Penh|1729847700        |2024-10-25 16:15|32.1               |89.8                  |Partly cloudy |8.3     |13.3    |343        |NNW           |1004.0     |29.65      |0.0      |0.0      |67      |50   |37.8              |100.1                |10.0         |6.0             |0.7     |11.4    |18.4    |634.55                     |78.0             |6.29                        |5.55                       |29.23            |44.585          |2                       |3                         |05:51 AM|05:38 PM|12:06 AM|01:08 PM  |Waning Crescent|43               |\n",
            "|Cameroon|Ngaoundere   |7.3167  |13.5833  |Africa/Douala  |1731315600        |2024-11-11 10:00|26.2               |79.2                  |Sunny         |7.8     |12.6    |31         |NNE           |1014.0     |29.96      |0.0      |0.0      |29      |13   |25.4              |77.8                 |10.0         |6.0             |6.9     |9.0     |14.5    |297.85                     |65.0             |0.74                        |1.11                       |34.225           |69.56           |2                       |3                         |05:56 AM|05:44 PM|02:08 PM|01:35 AM  |Waxing Gibbous |69               |\n",
            "|Germany |Berlin       |52.5167 |13.4     |Europe/Berlin  |1730020500        |2024-10-27 10:15|12.2               |54.0                  |Sunny         |6.9     |11.2    |205        |SSW           |1017.0     |30.03      |0.0      |0.0      |82      |0    |11.1              |52.0                 |10.0         |6.0             |0.8     |8.8     |14.2    |427.35                     |30.0             |24.42                       |2.775                      |32.93            |37.555          |2                       |3                         |07:54 AM|05:46 PM|02:04 AM|04:24 PM  |Waning Crescent|25               |\n",
            "|Greece  |Athens       |37.9795 |23.7162  |Europe/Athens  |1730710800        |2024-11-04 11:00|18.1               |64.6                  |Partly cloudy |10.5    |16.9    |357        |N             |1024.0     |30.24      |0.0      |0.0      |52      |50   |18.1              |64.6                 |10.0         |6.0             |2.4     |12.1    |19.5    |425.5                      |49.0             |53.65                       |6.29                       |17.02            |35.15           |2                       |2                         |06:54 AM|05:23 PM|09:51 AM|06:56 PM  |Waxing Crescent|6                |\n",
            "+--------+-------------+--------+---------+---------------+------------------+----------------+-------------------+----------------------+--------------+--------+--------+-----------+--------------+-----------+-----------+---------+---------+--------+-----+------------------+---------------------+-------------+----------------+--------+--------+--------+---------------------------+-----------------+----------------------------+---------------------------+-----------------+----------------+------------------------+--------------------------+--------+--------+--------+----------+---------------+-----------------+\n",
            "only showing top 5 rows\n",
            "\n"
          ]
        }
      ]
    },
    {
      "cell_type": "code",
      "source": [
        "metricsRepository = InMemoryMetricsRepository(spark)\n"
      ],
      "metadata": {
        "id": "3iNR4TbdCuDn"
      },
      "execution_count": null,
      "outputs": []
    },
    {
      "cell_type": "code",
      "source": [
        "historicalKey = ResultKey(spark, ResultKey.current_milli_time())\n",
        "\n",
        "historicalResult = VerificationSuite(spark).onData(historical_data) \\\n",
        "    .useRepository(metricsRepository) \\\n",
        "    .saveOrAppendResult(historicalKey) \\\n",
        "    .addAnomalyCheck(AbsoluteChangeStrategy(maxRateDecrease=20000.0), Size()) \\\n",
        "    .run()\n"
      ],
      "metadata": {
        "id": "PsikytHHC6Qp"
      },
      "execution_count": null,
      "outputs": []
    },
    {
      "cell_type": "code",
      "source": [
        "newKey = ResultKey(spark, ResultKey.current_milli_time())\n",
        "\n",
        "newResult = VerificationSuite(spark).onData(new_data) \\\n",
        "    .useRepository(metricsRepository) \\\n",
        "    .saveOrAppendResult(newKey) \\\n",
        "    .addAnomalyCheck(AbsoluteChangeStrategy(maxRateDecrease=20000.0), Size()) \\\n",
        "    .run()\n"
      ],
      "metadata": {
        "id": "C6OwMkP1DBhN"
      },
      "execution_count": null,
      "outputs": []
    },
    {
      "cell_type": "markdown",
      "source": [
        "En este caso, por la simulación previa se encontró una anomalía en los datos nuevos, dado que el dataset contiene una cantidad de registros inferior a 20.000"
      ],
      "metadata": {
        "id": "BPLFp13caSeU"
      }
    },
    {
      "cell_type": "code",
      "source": [
        "if newResult.status == \"Success\":\n",
        "    print(\"No se detectaron anomalías en la métrica configurada -> Size().\")\n",
        "else:\n",
        "    print(\"¡Anomalía detectada en la métrica configurada -> Size()!\")\n",
        "\n",
        "# Mostrar las métricas de éxito\n",
        "metricsRepository.load().forAnalyzers([Size()]).getSuccessMetricsAsDataFrame().show()\n"
      ],
      "metadata": {
        "colab": {
          "base_uri": "https://localhost:8080/"
        },
        "id": "qnu2kaAoDGXp",
        "outputId": "57345990-16f8-405c-ae25-71777010fa3d"
      },
      "execution_count": null,
      "outputs": [
        {
          "output_type": "stream",
          "name": "stdout",
          "text": [
            "¡Anomalía detectada en la métrica configurada -> Size()!\n",
            "+-------+--------+----+-------+-------------+\n",
            "| entity|instance|name|  value| dataset_date|\n",
            "+-------+--------+----+-------+-------------+\n",
            "|Dataset|       *|Size|30000.0|1731465869740|\n",
            "|Dataset|       *|Size| 4719.0|1731465872946|\n",
            "+-------+--------+----+-------+-------------+\n",
            "\n"
          ]
        }
      ]
    },
    {
      "cell_type": "markdown",
      "source": [
        "### **Ejercicio de Detección # 2**\n",
        "\n",
        "En esta segunda aproximación, se decidió implementar una regla de negocio para el dataset propuesto, la cual establece que los datos nuevos que ingresan al conjunto de información no pueden tener una estructura diferente a la histórica, es decir, tanto los datos nuevos como históricos deben tener la misma cantidad de columnas."
      ],
      "metadata": {
        "id": "C9mBUNvnSjFR"
      }
    },
    {
      "cell_type": "code",
      "source": [
        "from pyspark.sql import SparkSession, Row\n",
        "import pydeequ\n",
        "from pydeequ.repository import *\n",
        "from pydeequ.verification import *\n",
        "from pydeequ.analyzers import Completeness\n",
        "\n",
        "\n",
        "spark = (SparkSession\n",
        "    .builder\n",
        "    .config(\"spark.jars.packages\", pydeequ.deequ_maven_coord)\n",
        "    .config(\"spark.jars.excludes\", pydeequ.f2j_maven_coord)\n",
        "    .getOrCreate())\n",
        "sc = spark.sparkContext\n",
        "\n",
        "\n",
        "from google.colab import drive\n",
        "drive.mount('/content/drive')\n",
        "\n",
        "\n",
        "file_path = '/content/drive/MyDrive/Maestria_Ciencia_Datos/Semestre_2/Cloud/Taller_Final_Amariles/GlobalWeatherRepository.csv'\n",
        "df = spark.read.option(\"header\", \"true\").csv(file_path)\n",
        "df.printSchema()\n",
        "df.show(5)\n"
      ],
      "metadata": {
        "colab": {
          "base_uri": "https://localhost:8080/"
        },
        "id": "_xOO_wo-SjUL",
        "outputId": "f3c04a37-a907-4aaf-c82d-d1541756a550"
      },
      "execution_count": null,
      "outputs": [
        {
          "output_type": "stream",
          "name": "stdout",
          "text": [
            "Drive already mounted at /content/drive; to attempt to forcibly remount, call drive.mount(\"/content/drive\", force_remount=True).\n",
            "root\n",
            " |-- country: string (nullable = true)\n",
            " |-- location_name: string (nullable = true)\n",
            " |-- latitude: string (nullable = true)\n",
            " |-- longitude: string (nullable = true)\n",
            " |-- timezone: string (nullable = true)\n",
            " |-- last_updated_epoch: string (nullable = true)\n",
            " |-- last_updated: string (nullable = true)\n",
            " |-- temperature_celsius: string (nullable = true)\n",
            " |-- temperature_fahrenheit: string (nullable = true)\n",
            " |-- condition_text: string (nullable = true)\n",
            " |-- wind_mph: string (nullable = true)\n",
            " |-- wind_kph: string (nullable = true)\n",
            " |-- wind_degree: string (nullable = true)\n",
            " |-- wind_direction: string (nullable = true)\n",
            " |-- pressure_mb: string (nullable = true)\n",
            " |-- pressure_in: string (nullable = true)\n",
            " |-- precip_mm: string (nullable = true)\n",
            " |-- precip_in: string (nullable = true)\n",
            " |-- humidity: string (nullable = true)\n",
            " |-- cloud: string (nullable = true)\n",
            " |-- feels_like_celsius: string (nullable = true)\n",
            " |-- feels_like_fahrenheit: string (nullable = true)\n",
            " |-- visibility_km: string (nullable = true)\n",
            " |-- visibility_miles: string (nullable = true)\n",
            " |-- uv_index: string (nullable = true)\n",
            " |-- gust_mph: string (nullable = true)\n",
            " |-- gust_kph: string (nullable = true)\n",
            " |-- air_quality_Carbon_Monoxide: string (nullable = true)\n",
            " |-- air_quality_Ozone: string (nullable = true)\n",
            " |-- air_quality_Nitrogen_dioxide: string (nullable = true)\n",
            " |-- air_quality_Sulphur_dioxide: string (nullable = true)\n",
            " |-- air_quality_PM2.5: string (nullable = true)\n",
            " |-- air_quality_PM10: string (nullable = true)\n",
            " |-- air_quality_us-epa-index: string (nullable = true)\n",
            " |-- air_quality_gb-defra-index: string (nullable = true)\n",
            " |-- sunrise: string (nullable = true)\n",
            " |-- sunset: string (nullable = true)\n",
            " |-- moonrise: string (nullable = true)\n",
            " |-- moonset: string (nullable = true)\n",
            " |-- moon_phase: string (nullable = true)\n",
            " |-- moon_illumination: string (nullable = true)\n",
            "\n",
            "+-----------+----------------+--------+---------+--------------+------------------+----------------+-------------------+----------------------+--------------+--------+--------+-----------+--------------+-----------+-----------+---------+---------+--------+-----+------------------+---------------------+-------------+----------------+--------+--------+--------+---------------------------+-----------------+----------------------------+---------------------------+-----------------+----------------+------------------------+--------------------------+--------+--------+--------+--------+--------------+-----------------+\n",
            "|    country|   location_name|latitude|longitude|      timezone|last_updated_epoch|    last_updated|temperature_celsius|temperature_fahrenheit|condition_text|wind_mph|wind_kph|wind_degree|wind_direction|pressure_mb|pressure_in|precip_mm|precip_in|humidity|cloud|feels_like_celsius|feels_like_fahrenheit|visibility_km|visibility_miles|uv_index|gust_mph|gust_kph|air_quality_Carbon_Monoxide|air_quality_Ozone|air_quality_Nitrogen_dioxide|air_quality_Sulphur_dioxide|air_quality_PM2.5|air_quality_PM10|air_quality_us-epa-index|air_quality_gb-defra-index| sunrise|  sunset|moonrise| moonset|    moon_phase|moon_illumination|\n",
            "+-----------+----------------+--------+---------+--------------+------------------+----------------+-------------------+----------------------+--------------+--------+--------+-----------+--------------+-----------+-----------+---------+---------+--------+-----+------------------+---------------------+-------------+----------------+--------+--------+--------+---------------------------+-----------------+----------------------------+---------------------------+-----------------+----------------+------------------------+--------------------------+--------+--------+--------+--------+--------------+-----------------+\n",
            "|Afghanistan|           Kabul|   34.52|    69.18|    Asia/Kabul|        1715849100|2024-05-16 13:15|               26.6|                  79.8| Partly Cloudy|     8.3|    13.3|        338|           NNW|     1012.0|      29.89|      0.0|      0.0|      24|   30|              25.3|                 77.5|         10.0|             6.0|     7.0|     9.5|    15.3|                      277.0|            103.0|                         1.1|                        0.2|              8.4|            26.6|                       1|                         1|04:50 AM|06:50 PM|12:12 PM|01:11 AM|Waxing Gibbous|               55|\n",
            "|    Albania|          Tirana|   41.33|    19.82| Europe/Tirane|        1715849100|2024-05-16 10:45|               19.0|                  66.2| Partly cloudy|     6.9|    11.2|        320|            NW|     1012.0|      29.88|      0.1|      0.0|      94|   75|              19.0|                 66.2|         10.0|             6.0|     5.0|    11.4|    18.4|                      193.6|             97.3|                         0.9|                        0.1|              1.1|             2.0|                       1|                         1|05:21 AM|07:54 PM|12:58 PM|02:14 AM|Waxing Gibbous|               55|\n",
            "|    Algeria|         Algiers|   36.76|     3.05|Africa/Algiers|        1715849100|2024-05-16 09:45|               23.0|                  73.4|         Sunny|     9.4|    15.1|        280|             W|     1011.0|      29.85|      0.0|      0.0|      29|    0|              24.6|                 76.4|         10.0|             6.0|     5.0|    13.9|    22.3|                      540.7|             12.2|                        65.1|                       13.4|             10.4|            18.4|                       1|                         1|05:40 AM|07:50 PM|01:15 PM|02:14 AM|Waxing Gibbous|               55|\n",
            "|    Andorra|Andorra La Vella|    42.5|     1.52|Europe/Andorra|        1715849100|2024-05-16 10:45|                6.3|                  43.3| Light drizzle|     7.4|    11.9|        215|            SW|     1007.0|      29.75|      0.3|     0.01|      61|  100|               3.8|                 38.9|          2.0|             1.0|     2.0|     8.5|    13.7|                      170.2|             64.4|                         1.6|                        0.2|              0.7|             0.9|                       1|                         1|06:31 AM|09:11 PM|02:12 PM|03:31 AM|Waxing Gibbous|               55|\n",
            "|     Angola|          Luanda|   -8.84|    13.23| Africa/Luanda|        1715849100|2024-05-16 09:45|               26.0|                  78.8| Partly cloudy|     8.1|    13.0|        150|           SSE|     1011.0|      29.85|      0.0|      0.0|      89|   50|              28.7|                 83.6|         10.0|             6.0|     8.0|    12.5|    20.2|                     2964.0|             19.0|                        72.7|                       31.5|            183.4|           262.3|                       5|                        10|06:12 AM|05:55 PM|01:17 PM|12:38 AM|Waxing Gibbous|               55|\n",
            "+-----------+----------------+--------+---------+--------------+------------------+----------------+-------------------+----------------------+--------------+--------+--------+-----------+--------------+-----------+-----------+---------+---------+--------+-----+------------------+---------------------+-------------+----------------+--------+--------+--------+---------------------------+-----------------+----------------------------+---------------------------+-----------------+----------------+------------------------+--------------------------+--------+--------+--------+--------+--------------+-----------------+\n",
            "only showing top 5 rows\n",
            "\n"
          ]
        }
      ]
    },
    {
      "cell_type": "markdown",
      "source": [
        "En este punto se lleva a cabo la simulación para poder revisar el ejercicio de detección de anomalía más adelante. En este punto se decidió eliminar la columna 'country'."
      ],
      "metadata": {
        "id": "U0TIoYcAar9N"
      }
    },
    {
      "cell_type": "code",
      "source": [
        "\n",
        "historical_data = df.limit(30000)\n",
        "new_data = df.subtract(historical_data)\n",
        "\n",
        "\n",
        "new_data = new_data.drop('country')\n",
        "\n",
        "\n",
        "print(\"Datos Históricos:\")\n",
        "historical_data.show(5, truncate=False)\n",
        "\n",
        "print(\"Datos Nuevos (sin columna 'country'):\")\n",
        "new_data.show(5, truncate=False)\n"
      ],
      "metadata": {
        "colab": {
          "base_uri": "https://localhost:8080/"
        },
        "id": "y0jAZjwYSlw5",
        "outputId": "af0c0f69-11e5-4a42-9a82-6e742da83cbe"
      },
      "execution_count": null,
      "outputs": [
        {
          "output_type": "stream",
          "name": "stdout",
          "text": [
            "Datos Históricos:\n",
            "+-----------+----------------+--------+---------+--------------+------------------+----------------+-------------------+----------------------+--------------+--------+--------+-----------+--------------+-----------+-----------+---------+---------+--------+-----+------------------+---------------------+-------------+----------------+--------+--------+--------+---------------------------+-----------------+----------------------------+---------------------------+-----------------+----------------+------------------------+--------------------------+--------+--------+--------+--------+--------------+-----------------+\n",
            "|country    |location_name   |latitude|longitude|timezone      |last_updated_epoch|last_updated    |temperature_celsius|temperature_fahrenheit|condition_text|wind_mph|wind_kph|wind_degree|wind_direction|pressure_mb|pressure_in|precip_mm|precip_in|humidity|cloud|feels_like_celsius|feels_like_fahrenheit|visibility_km|visibility_miles|uv_index|gust_mph|gust_kph|air_quality_Carbon_Monoxide|air_quality_Ozone|air_quality_Nitrogen_dioxide|air_quality_Sulphur_dioxide|air_quality_PM2.5|air_quality_PM10|air_quality_us-epa-index|air_quality_gb-defra-index|sunrise |sunset  |moonrise|moonset |moon_phase    |moon_illumination|\n",
            "+-----------+----------------+--------+---------+--------------+------------------+----------------+-------------------+----------------------+--------------+--------+--------+-----------+--------------+-----------+-----------+---------+---------+--------+-----+------------------+---------------------+-------------+----------------+--------+--------+--------+---------------------------+-----------------+----------------------------+---------------------------+-----------------+----------------+------------------------+--------------------------+--------+--------+--------+--------+--------------+-----------------+\n",
            "|Afghanistan|Kabul           |34.52   |69.18    |Asia/Kabul    |1715849100        |2024-05-16 13:15|26.6               |79.8                  |Partly Cloudy |8.3     |13.3    |338        |NNW           |1012.0     |29.89      |0.0      |0.0      |24      |30   |25.3              |77.5                 |10.0         |6.0             |7.0     |9.5     |15.3    |277.0                      |103.0            |1.1                         |0.2                        |8.4              |26.6            |1                       |1                         |04:50 AM|06:50 PM|12:12 PM|01:11 AM|Waxing Gibbous|55               |\n",
            "|Albania    |Tirana          |41.33   |19.82    |Europe/Tirane |1715849100        |2024-05-16 10:45|19.0               |66.2                  |Partly cloudy |6.9     |11.2    |320        |NW            |1012.0     |29.88      |0.1      |0.0      |94      |75   |19.0              |66.2                 |10.0         |6.0             |5.0     |11.4    |18.4    |193.6                      |97.3             |0.9                         |0.1                        |1.1              |2.0             |1                       |1                         |05:21 AM|07:54 PM|12:58 PM|02:14 AM|Waxing Gibbous|55               |\n",
            "|Algeria    |Algiers         |36.76   |3.05     |Africa/Algiers|1715849100        |2024-05-16 09:45|23.0               |73.4                  |Sunny         |9.4     |15.1    |280        |W             |1011.0     |29.85      |0.0      |0.0      |29      |0    |24.6              |76.4                 |10.0         |6.0             |5.0     |13.9    |22.3    |540.7                      |12.2             |65.1                        |13.4                       |10.4             |18.4            |1                       |1                         |05:40 AM|07:50 PM|01:15 PM|02:14 AM|Waxing Gibbous|55               |\n",
            "|Andorra    |Andorra La Vella|42.5    |1.52     |Europe/Andorra|1715849100        |2024-05-16 10:45|6.3                |43.3                  |Light drizzle |7.4     |11.9    |215        |SW            |1007.0     |29.75      |0.3      |0.01     |61      |100  |3.8               |38.9                 |2.0          |1.0             |2.0     |8.5     |13.7    |170.2                      |64.4             |1.6                         |0.2                        |0.7              |0.9             |1                       |1                         |06:31 AM|09:11 PM|02:12 PM|03:31 AM|Waxing Gibbous|55               |\n",
            "|Angola     |Luanda          |-8.84   |13.23    |Africa/Luanda |1715849100        |2024-05-16 09:45|26.0               |78.8                  |Partly cloudy |8.1     |13.0    |150        |SSE           |1011.0     |29.85      |0.0      |0.0      |89      |50   |28.7              |83.6                 |10.0         |6.0             |8.0     |12.5    |20.2    |2964.0                     |19.0             |72.7                        |31.5                       |183.4            |262.3           |5                       |10                        |06:12 AM|05:55 PM|01:17 PM|12:38 AM|Waxing Gibbous|55               |\n",
            "+-----------+----------------+--------+---------+--------------+------------------+----------------+-------------------+----------------------+--------------+--------+--------+-----------+--------------+-----------+-----------+---------+---------+--------+-----+------------------+---------------------+-------------+----------------+--------+--------+--------+---------------------------+-----------------+----------------------------+---------------------------+-----------------+----------------+------------------------+--------------------------+--------+--------+--------+--------+--------------+-----------------+\n",
            "only showing top 5 rows\n",
            "\n",
            "Datos Nuevos (sin columna 'country'):\n",
            "+-------------+--------+---------+---------------+------------------+----------------+-------------------+----------------------+--------------+--------+--------+-----------+--------------+-----------+-----------+---------+---------+--------+-----+------------------+---------------------+-------------+----------------+--------+--------+--------+---------------------------+-----------------+----------------------------+---------------------------+-----------------+----------------+------------------------+--------------------------+--------+--------+--------+----------+---------------+-----------------+\n",
            "|location_name|latitude|longitude|timezone       |last_updated_epoch|last_updated    |temperature_celsius|temperature_fahrenheit|condition_text|wind_mph|wind_kph|wind_degree|wind_direction|pressure_mb|pressure_in|precip_mm|precip_in|humidity|cloud|feels_like_celsius|feels_like_fahrenheit|visibility_km|visibility_miles|uv_index|gust_mph|gust_kph|air_quality_Carbon_Monoxide|air_quality_Ozone|air_quality_Nitrogen_dioxide|air_quality_Sulphur_dioxide|air_quality_PM2.5|air_quality_PM10|air_quality_us-epa-index|air_quality_gb-defra-index|sunrise |sunset  |moonrise|moonset   |moon_phase     |moon_illumination|\n",
            "+-------------+--------+---------+---------------+------------------+----------------+-------------------+----------------------+--------------+--------+--------+-----------+--------------+-----------+-----------+---------+---------+--------+-----+------------------+---------------------+-------------+----------------+--------+--------+--------+---------------------------+-----------------+----------------------------+---------------------------+-----------------+----------------+------------------------+--------------------------+--------+--------+--------+----------+---------------+-----------------+\n",
            "|Brussels     |50.8333 |4.3333   |Europe/Brussels|1731142800        |2024-11-09 10:00|7.4                |45.3                  |Light rain    |3.4     |5.4     |181        |S             |1024.0     |30.24      |0.0      |0.0      |93      |100  |6.7               |44.0                 |8.0          |4.0             |0.3     |4.6     |7.5     |604.95                     |5.0              |51.06                       |4.625                      |63.455           |82.88           |3                       |8                         |07:49 AM|05:04 PM|02:40 PM|No moonset|First Quarter  |47               |\n",
            "|Phnom Penh   |11.55   |104.9167 |Asia/Phnom_Penh|1729847700        |2024-10-25 16:15|32.1               |89.8                  |Partly cloudy |8.3     |13.3    |343        |NNW           |1004.0     |29.65      |0.0      |0.0      |67      |50   |37.8              |100.1                |10.0         |6.0             |0.7     |11.4    |18.4    |634.55                     |78.0             |6.29                        |5.55                       |29.23            |44.585          |2                       |3                         |05:51 AM|05:38 PM|12:06 AM|01:08 PM  |Waning Crescent|43               |\n",
            "|Ngaoundere   |7.3167  |13.5833  |Africa/Douala  |1731315600        |2024-11-11 10:00|26.2               |79.2                  |Sunny         |7.8     |12.6    |31         |NNE           |1014.0     |29.96      |0.0      |0.0      |29      |13   |25.4              |77.8                 |10.0         |6.0             |6.9     |9.0     |14.5    |297.85                     |65.0             |0.74                        |1.11                       |34.225           |69.56           |2                       |3                         |05:56 AM|05:44 PM|02:08 PM|01:35 AM  |Waxing Gibbous |69               |\n",
            "|Berlin       |52.5167 |13.4     |Europe/Berlin  |1730020500        |2024-10-27 10:15|12.2               |54.0                  |Sunny         |6.9     |11.2    |205        |SSW           |1017.0     |30.03      |0.0      |0.0      |82      |0    |11.1              |52.0                 |10.0         |6.0             |0.8     |8.8     |14.2    |427.35                     |30.0             |24.42                       |2.775                      |32.93            |37.555          |2                       |3                         |07:54 AM|05:46 PM|02:04 AM|04:24 PM  |Waning Crescent|25               |\n",
            "|Athens       |37.9795 |23.7162  |Europe/Athens  |1730710800        |2024-11-04 11:00|18.1               |64.6                  |Partly cloudy |10.5    |16.9    |357        |N             |1024.0     |30.24      |0.0      |0.0      |52      |50   |18.1              |64.6                 |10.0         |6.0             |2.4     |12.1    |19.5    |425.5                      |49.0             |53.65                       |6.29                       |17.02            |35.15           |2                       |2                         |06:54 AM|05:23 PM|09:51 AM|06:56 PM  |Waxing Crescent|6                |\n",
            "+-------------+--------+---------+---------------+------------------+----------------+-------------------+----------------------+--------------+--------+--------+-----------+--------------+-----------+-----------+---------+---------+--------+-----+------------------+---------------------+-------------+----------------+--------+--------+--------+---------------------------+-----------------+----------------------------+---------------------------+-----------------+----------------+------------------------+--------------------------+--------+--------+--------+----------+---------------+-----------------+\n",
            "only showing top 5 rows\n",
            "\n"
          ]
        }
      ]
    },
    {
      "cell_type": "code",
      "source": [
        "metricsRepository = InMemoryMetricsRepository(spark)\n"
      ],
      "metadata": {
        "id": "1f7_REwLSrk7"
      },
      "execution_count": null,
      "outputs": []
    },
    {
      "cell_type": "code",
      "source": [
        "from pydeequ.anomaly_detection import RelativeRateOfChangeStrategy\n",
        "\n",
        "historicalKey = ResultKey(spark, ResultKey.current_milli_time())\n",
        "\n",
        "historicalResult = VerificationSuite(spark).onData(historical_data) \\\n",
        "    .useRepository(metricsRepository) \\\n",
        "    .saveOrAppendResult(historicalKey) \\\n",
        "    .addAnomalyCheck(RelativeRateOfChangeStrategy(maxRateIncrease=2.0), Completeness('country')) \\\n",
        "    .run()\n"
      ],
      "metadata": {
        "id": "xqg31NnUStQK"
      },
      "execution_count": null,
      "outputs": []
    },
    {
      "cell_type": "code",
      "source": [
        "newKey = ResultKey(spark, ResultKey.current_milli_time())\n",
        "\n",
        "newResult = VerificationSuite(spark).onData(new_data) \\\n",
        "    .useRepository(metricsRepository) \\\n",
        "    .saveOrAppendResult(newKey) \\\n",
        "    .addAnomalyCheck(RelativeRateOfChangeStrategy(maxRateIncrease=2.0), Completeness('country')) \\\n",
        "    .run()\n"
      ],
      "metadata": {
        "id": "A5oBP63eSwY_"
      },
      "execution_count": null,
      "outputs": []
    },
    {
      "cell_type": "markdown",
      "source": [
        "En este caso, teniendo en cuenta la simulación que se generó previamente donde se eliminó la columna, en este punto se encontró una anomalía por la ausencia de la variable 'country' en el dataset con datos nuevos."
      ],
      "metadata": {
        "id": "Zyp2w1hwbkKm"
      }
    },
    {
      "cell_type": "code",
      "source": [
        "if newResult.status == \"Success\":\n",
        "    print(\"No se detectaron anomalías en la métrica configurada -> Completeness('country').\")\n",
        "else:\n",
        "    print(\"¡Anomalía detectada en la métrica configurada -> Completeness('country')!\")\n",
        "\n",
        "# Mostrar las métricas de éxito\n",
        "metricsRepository.load().forAnalyzers([Completeness('country')]).getSuccessMetricsAsDataFrame().show()\n"
      ],
      "metadata": {
        "colab": {
          "base_uri": "https://localhost:8080/"
        },
        "id": "5Act2L2TSx98",
        "outputId": "16e32eaa-a474-4c6d-8502-945d07deaf23"
      },
      "execution_count": null,
      "outputs": [
        {
          "output_type": "stream",
          "name": "stdout",
          "text": [
            "¡Anomalía detectada en la métrica Completeness('country')!\n",
            "+------+--------+------------+-----+-------------+\n",
            "|entity|instance|        name|value| dataset_date|\n",
            "+------+--------+------------+-----+-------------+\n",
            "|Column| country|Completeness|  1.0|1731466204212|\n",
            "+------+--------+------------+-----+-------------+\n",
            "\n"
          ]
        }
      ]
    }
  ]
}